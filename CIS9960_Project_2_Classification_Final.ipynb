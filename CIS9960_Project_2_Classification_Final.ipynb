{
  "nbformat": 4,
  "nbformat_minor": 0,
  "metadata": {
    "colab": {
      "provenance": []
    },
    "kernelspec": {
      "name": "python3",
      "display_name": "Python 3"
    },
    "language_info": {
      "name": "python"
    }
  },
  "cells": [
    {
      "cell_type": "markdown",
      "source": [
        "Sometimes importing sodapy would not work without the cell below"
      ],
      "metadata": {
        "id": "vH5qp9pY4p2c"
      }
    },
    {
      "cell_type": "code",
      "source": [
        "pip install sodapy"
      ],
      "metadata": {
        "colab": {
          "base_uri": "https://localhost:8080/"
        },
        "id": "DpzFfjwSuJEY",
        "outputId": "fe4873a2-9df9-469b-87df-9ae05c988a26"
      },
      "execution_count": 1,
      "outputs": [
        {
          "output_type": "stream",
          "name": "stdout",
          "text": [
            "Collecting sodapy\n",
            "  Downloading sodapy-2.2.0-py2.py3-none-any.whl.metadata (15 kB)\n",
            "Requirement already satisfied: requests>=2.28.1 in /usr/local/lib/python3.11/dist-packages (from sodapy) (2.32.3)\n",
            "Requirement already satisfied: charset-normalizer<4,>=2 in /usr/local/lib/python3.11/dist-packages (from requests>=2.28.1->sodapy) (3.4.2)\n",
            "Requirement already satisfied: idna<4,>=2.5 in /usr/local/lib/python3.11/dist-packages (from requests>=2.28.1->sodapy) (3.10)\n",
            "Requirement already satisfied: urllib3<3,>=1.21.1 in /usr/local/lib/python3.11/dist-packages (from requests>=2.28.1->sodapy) (2.5.0)\n",
            "Requirement already satisfied: certifi>=2017.4.17 in /usr/local/lib/python3.11/dist-packages (from requests>=2.28.1->sodapy) (2025.8.3)\n",
            "Downloading sodapy-2.2.0-py2.py3-none-any.whl (15 kB)\n",
            "Installing collected packages: sodapy\n",
            "Successfully installed sodapy-2.2.0\n"
          ]
        }
      ]
    },
    {
      "cell_type": "markdown",
      "source": [
        "Import necessary Libraries\n"
      ],
      "metadata": {
        "id": "0GHwK2csjqS-"
      }
    },
    {
      "cell_type": "code",
      "source": [
        "### Libraries utilized\n",
        "import glob\n",
        "import pandas as pd\n",
        "from pandas.api.types import CategoricalDtype\n",
        "import os\n",
        "from sodapy import Socrata\n",
        "import numpy as np\n",
        "import matplotlib.pyplot as plt\n",
        "import seaborn as sns\n",
        "import matplotlib.ticker as mtick\n",
        "from sklearn.preprocessing import StandardScaler\n",
        "from sklearn.model_selection import train_test_split, cross_val_score, StratifiedKFold,cross_validate\n",
        "from sklearn.pipeline import make_pipeline\n",
        "from sklearn.linear_model import LogisticRegression\n",
        "from sklearn.naive_bayes import GaussianNB\n",
        "from sklearn.tree import DecisionTreeClassifier\n",
        "from sklearn.ensemble import RandomForestClassifier\n",
        "from sklearn.svm import SVC\n",
        "from sklearn.neighbors import KNeighborsClassifier\n",
        "from sklearn.cluster import KMeans\n",
        "from sklearn.metrics import classification_report, confusion_matrix, accuracy_score, adjusted_rand_score, normalized_mutual_info_score, make_scorer, f1_score, precision_score, recall_score\n",
        "import joblib"
      ],
      "metadata": {
        "id": "X2DdkrANlpKw"
      },
      "execution_count": 47,
      "outputs": []
    },
    {
      "cell_type": "markdown",
      "source": [
        "Import Fresh Dataset using API token"
      ],
      "metadata": {
        "id": "4dU2Ju9Ik1NS"
      }
    },
    {
      "cell_type": "code",
      "source": [
        "### Same method of datapull as question 1 from project 1. Pulls data in batches and then combines them using glob.\n",
        "### Individual batches are then tossed.\n",
        "APP_TOKEN = \"oMcgh3hh3fn1djGiFPyKWrPoC\"\n",
        "client = Socrata(\"data.cityofnewyork.us\", app_token = APP_TOKEN)\n",
        "DATASET_ID = \"w2pb-icbu\"\n",
        "BATCH_SIZE = 50000\n",
        "offset = 0\n",
        "batch_num = 0\n",
        "while True:\n",
        "    print (f\"Fetching rows {offset} to {offset + BATCH_SIZE}...\")\n",
        "\n",
        "    results= client.get(DATASET_ID, limit = BATCH_SIZE, offset=offset)\n",
        "\n",
        "    if not results :\n",
        "        print(\"No more records to fetch.\")\n",
        "        break\n",
        "    df=pd.DataFrame.from_records(results)\n",
        "\n",
        "    output_filename = (f\"nyc_data_batch_{batch_num:03d}.csv\")\n",
        "    df.to_csv(output_filename, index = False)\n",
        "    print(f\"saved {len(df)} rows to {output_filename}\")\n",
        "\n",
        "    offset += BATCH_SIZE\n",
        "    batch_num +=1\n",
        "csv_files = sorted(glob.glob(\"nyc_data_batch_*.csv\"))\n",
        "print(f\"found{len(csv_files)} files to merge.\")\n",
        "df_iter = (pd.read_csv(f) for f in csv_files)\n",
        "print(\"Merging all batches into one DataFrame...\")\n",
        "merged_df = pd.concat(df_iter, ignore_index = False)\n",
        "\n",
        "output_file = \"nyc_data_all.csv\"\n",
        "merged_df.to_csv(output_file, index = False)\n",
        "print(f\"Saved merged data to {output_file}\")\n",
        "csv_files = glob.glob(\"nyc_data_batch_*.csv\")\n",
        "\n",
        "for f in csv_files:\n",
        "    os.remove(f)\n",
        "    print (f\"Deleted {f}\")\n",
        "print(\"All batches have been deleted\")"
      ],
      "metadata": {
        "colab": {
          "base_uri": "https://localhost:8080/"
        },
        "id": "Bm-87pGCk0G1",
        "outputId": "9ad75b6d-3c09-485e-b29c-5bbe2bb37548"
      },
      "execution_count": 3,
      "outputs": [
        {
          "output_type": "stream",
          "name": "stdout",
          "text": [
            "Fetching rows 0 to 50000...\n",
            "saved 50000 rows to nyc_data_batch_000.csv\n",
            "Fetching rows 50000 to 100000...\n",
            "saved 50000 rows to nyc_data_batch_001.csv\n",
            "Fetching rows 100000 to 150000...\n",
            "saved 50000 rows to nyc_data_batch_002.csv\n",
            "Fetching rows 150000 to 200000...\n",
            "saved 50000 rows to nyc_data_batch_003.csv\n",
            "Fetching rows 200000 to 250000...\n",
            "saved 50000 rows to nyc_data_batch_004.csv\n",
            "Fetching rows 250000 to 300000...\n",
            "saved 50000 rows to nyc_data_batch_005.csv\n",
            "Fetching rows 300000 to 350000...\n",
            "saved 50000 rows to nyc_data_batch_006.csv\n",
            "Fetching rows 350000 to 400000...\n",
            "saved 50000 rows to nyc_data_batch_007.csv\n",
            "Fetching rows 400000 to 450000...\n",
            "saved 50000 rows to nyc_data_batch_008.csv\n",
            "Fetching rows 450000 to 500000...\n",
            "saved 50000 rows to nyc_data_batch_009.csv\n",
            "Fetching rows 500000 to 550000...\n",
            "saved 50000 rows to nyc_data_batch_010.csv\n",
            "Fetching rows 550000 to 600000...\n",
            "saved 50000 rows to nyc_data_batch_011.csv\n",
            "Fetching rows 600000 to 650000...\n",
            "saved 50000 rows to nyc_data_batch_012.csv\n",
            "Fetching rows 650000 to 700000...\n",
            "saved 50000 rows to nyc_data_batch_013.csv\n",
            "Fetching rows 700000 to 750000...\n",
            "saved 50000 rows to nyc_data_batch_014.csv\n",
            "Fetching rows 750000 to 800000...\n",
            "saved 10914 rows to nyc_data_batch_015.csv\n",
            "Fetching rows 800000 to 850000...\n",
            "No more records to fetch.\n",
            "found16 files to merge.\n",
            "Merging all batches into one DataFrame...\n",
            "Saved merged data to nyc_data_all.csv\n",
            "Deleted nyc_data_batch_009.csv\n",
            "Deleted nyc_data_batch_002.csv\n",
            "Deleted nyc_data_batch_006.csv\n",
            "Deleted nyc_data_batch_014.csv\n",
            "Deleted nyc_data_batch_005.csv\n",
            "Deleted nyc_data_batch_003.csv\n",
            "Deleted nyc_data_batch_015.csv\n",
            "Deleted nyc_data_batch_011.csv\n",
            "Deleted nyc_data_batch_007.csv\n",
            "Deleted nyc_data_batch_004.csv\n",
            "Deleted nyc_data_batch_008.csv\n",
            "Deleted nyc_data_batch_001.csv\n",
            "Deleted nyc_data_batch_012.csv\n",
            "Deleted nyc_data_batch_013.csv\n",
            "Deleted nyc_data_batch_000.csv\n",
            "Deleted nyc_data_batch_010.csv\n",
            "All batches have been deleted\n"
          ]
        }
      ]
    },
    {
      "cell_type": "markdown",
      "source": [
        "Reads CSV File into a pandas dataframe"
      ],
      "metadata": {
        "id": "zBd0ciTnmkor"
      }
    },
    {
      "cell_type": "code",
      "source": [
        "### Reads in CSV file\n",
        "df = pd.read_csv(\"nyc_data_all.csv\")"
      ],
      "metadata": {
        "colab": {
          "base_uri": "https://localhost:8080/"
        },
        "id": "qbn9fo_0mf2c",
        "outputId": "f63a7d3e-4375-432b-9420-1156d9895dd2"
      },
      "execution_count": 4,
      "outputs": [
        {
          "output_type": "stream",
          "name": "stderr",
          "text": [
            "/tmp/ipython-input-1577220342.py:2: DtypeWarning: Columns (13,14) have mixed types. Specify dtype option on import or set low_memory=False.\n",
            "  df = pd.read_csv(\"nyc_data_all.csv\")\n"
          ]
        }
      ]
    },
    {
      "cell_type": "markdown",
      "source": [
        "Analyzes the dataframes so that critical columns can be selected"
      ],
      "metadata": {
        "id": "VWEotxSXm1D8"
      }
    },
    {
      "cell_type": "code",
      "source": [
        "### A view to see the columns\n",
        "df.info()"
      ],
      "metadata": {
        "colab": {
          "base_uri": "https://localhost:8080/"
        },
        "id": "hFzEYdvPmqe8",
        "outputId": "5d9a8118-e005-4846-ad2e-bde80ff15d80"
      },
      "execution_count": 5,
      "outputs": [
        {
          "output_type": "stream",
          "name": "stdout",
          "text": [
            "<class 'pandas.core.frame.DataFrame'>\n",
            "RangeIndex: 760914 entries, 0 to 760913\n",
            "Data columns (total 28 columns):\n",
            " #   Column                      Non-Null Count   Dtype  \n",
            "---  ------                      --------------   -----  \n",
            " 0   borough                     760914 non-null  int64  \n",
            " 1   neighborhood                760914 non-null  object \n",
            " 2   building_class_category     760914 non-null  object \n",
            " 3   tax_class_as_of_final_roll  756731 non-null  object \n",
            " 4   block                       760914 non-null  int64  \n",
            " 5   lot                         760914 non-null  int64  \n",
            " 6   building_class_as_of_final  756731 non-null  object \n",
            " 7   address                     760914 non-null  object \n",
            " 8   apartment_number            187994 non-null  object \n",
            " 9   zip_code                    760866 non-null  float64\n",
            " 10  residential_units           647911 non-null  float64\n",
            " 11  commercial_units            584372 non-null  float64\n",
            " 12  total_units                 659062 non-null  float64\n",
            " 13  land_square_feet            573219 non-null  object \n",
            " 14  gross_square_feet           573222 non-null  object \n",
            " 15  year_built                  727043 non-null  float64\n",
            " 16  tax_class_at_time_of_sale   760914 non-null  int64  \n",
            " 17  building_class_at_time_of   760914 non-null  object \n",
            " 18  sale_price                  760914 non-null  int64  \n",
            " 19  sale_date                   760914 non-null  object \n",
            " 20  latitude                    739355 non-null  float64\n",
            " 21  longitude                   739355 non-null  float64\n",
            " 22  community_board             739356 non-null  float64\n",
            " 23  council_district            739356 non-null  float64\n",
            " 24  bin                         736506 non-null  float64\n",
            " 25  bbl                         736506 non-null  float64\n",
            " 26  census_tract_2020           739609 non-null  float64\n",
            " 27  nta                         739609 non-null  object \n",
            "dtypes: float64(12), int64(5), object(11)\n",
            "memory usage: 162.5+ MB\n"
          ]
        }
      ]
    },
    {
      "cell_type": "code",
      "source": [
        "### Picks out columns that are critical for the analysis.\n",
        "critical_columns = ['total_units', 'borough', 'neighborhood', \"zip_code\", \"total_units\", \"land_square_feet\", \"gross_square_feet\", \"year_built\", \"sale_price\", \"sale_date\"]\n",
        "### Creates a new dataframe out of the critical columns.\n",
        "df_crit = df[critical_columns].copy()"
      ],
      "metadata": {
        "id": "Gx0zwHHWrCwu"
      },
      "execution_count": 6,
      "outputs": []
    },
    {
      "cell_type": "markdown",
      "source": [
        "Tests to see the name and associated neighborhood for the borough"
      ],
      "metadata": {
        "id": "qD4CbusI-SeR"
      }
    },
    {
      "cell_type": "code",
      "source": [
        "### For loop used to check the neighborhood within each borough for mapping purposes.\n",
        "for b, group in df_crit.groupby('borough')['neighborhood']:\n",
        "    print(f\"\\n{b}:\")\n",
        "    print(sorted(group.unique()))"
      ],
      "metadata": {
        "colab": {
          "base_uri": "https://localhost:8080/"
        },
        "id": "8OeMSa9l-Sky",
        "outputId": "a97881ed-927c-48ef-85de-3163081d27f4"
      },
      "execution_count": 7,
      "outputs": [
        {
          "output_type": "stream",
          "name": "stdout",
          "text": [
            "\n",
            "1:\n",
            "['ALPHABET CITY', 'CHELSEA', 'CHINATOWN', 'CIVIC CENTER', 'CLINTON', 'EAST VILLAGE', 'FASHION', 'FINANCIAL', 'FLATIRON', 'GRAMERCY', 'GREENWICH VILLAGE-CENTRAL', 'GREENWICH VILLAGE-WEST', 'HARLEM-CENTRAL', 'HARLEM-EAST', 'HARLEM-UPPER', 'HARLEM-WEST', 'INWOOD', 'JAVITS CENTER', 'KIPS BAY', 'LITTLE ITALY', 'LOWER EAST SIDE', 'MANHATTAN VALLEY', 'MANHATTAN-UNKNOWN', 'MIDTOWN CBD', 'MIDTOWN EAST', 'MIDTOWN WEST', 'MORNINGSIDE HEIGHTS', 'MURRAY HILL', 'ROOSEVELT ISLAND', 'SOHO', 'SOUTHBRIDGE', 'TRIBECA', 'UPPER EAST SIDE (59-79)', 'UPPER EAST SIDE (79-96)', 'UPPER EAST SIDE (96-110)', 'UPPER WEST SIDE (59-79)', 'UPPER WEST SIDE (79-96)', 'UPPER WEST SIDE (96-116)', 'WASHINGTON HEIGHTS LOWER', 'WASHINGTON HEIGHTS UPPER']\n",
            "\n",
            "2:\n",
            "['BATHGATE', 'BAYCHESTER', 'BEDFORD PARK/NORWOOD', 'BELMONT', 'BRONX PARK', 'BRONX-UNKNOWN', 'BRONXDALE', 'CASTLE HILL/UNIONPORT', 'CITY ISLAND', 'CITY ISLAND-PELHAM STRIP', 'CO-OP CITY', 'COUNTRY CLUB', 'CROTONA PARK', 'EAST RIVER', 'EAST TREMONT', 'FIELDSTON', 'FORDHAM', 'HIGHBRIDGE/MORRIS HEIGHTS', 'HUNTS POINT', 'KINGSBRIDGE HTS/UNIV HTS', 'KINGSBRIDGE/JEROME PARK', 'MELROSE/CONCOURSE', 'MORRIS PARK/VAN NEST', 'MORRISANIA/LONGWOOD', 'MOTT HAVEN/PORT MORRIS', 'MOUNT HOPE/MOUNT EDEN', 'PARKCHESTER', 'PELHAM BAY', 'PELHAM GARDENS', 'PELHAM PARKWAY NORTH', 'PELHAM PARKWAY SOUTH', 'RIVERDALE', 'SCHUYLERVILLE/PELHAM BAY', 'SOUNDVIEW', 'THROGS NECK', 'VAN CORTLANDT PARK', 'WAKEFIELD', 'WESTCHESTER', 'WILLIAMSBRIDGE', 'WOODLAWN']\n",
            "\n",
            "3:\n",
            "['BATH BEACH', 'BAY RIDGE', 'BEDFORD STUYVESANT', 'BENSONHURST', 'BERGEN BEACH', 'BOERUM HILL', 'BOROUGH PARK', 'BRIGHTON BEACH', 'BROOKLYN HEIGHTS', 'BROOKLYN-UNKNOWN', 'BROWNSVILLE', 'BUSH TERMINAL', 'BUSHWICK', 'CANARSIE', 'CARROLL GARDENS', 'CLINTON HILL', 'COBBLE HILL', 'COBBLE HILL-WEST', 'CONEY ISLAND', 'CROWN HEIGHTS', 'CYPRESS HILLS', 'DOWNTOWN-FULTON FERRY', 'DOWNTOWN-FULTON MALL', 'DOWNTOWN-METROTECH', 'DYKER HEIGHTS', 'EAST NEW YORK', 'FLATBUSH-CENTRAL', 'FLATBUSH-EAST', 'FLATBUSH-LEFFERTS GARDEN', 'FLATBUSH-NORTH', 'FLATLANDS', 'FORT GREENE', 'GERRITSEN BEACH', 'GOWANUS', 'GRAVESEND', 'GREENPOINT', 'JAMAICA BAY', 'KENSINGTON', 'MADISON', 'MANHATTAN BEACH', 'MARINE PARK', 'MIDWOOD', 'MILL BASIN', 'NAVY YARD', 'OCEAN HILL', 'OCEAN PARKWAY-NORTH', 'OCEAN PARKWAY-SOUTH', 'OLD MILL BASIN', 'PARK SLOPE', 'PARK SLOPE SOUTH', 'PROSPECT HEIGHTS', 'RED HOOK', 'SEAGATE', 'SHEEPSHEAD BAY', 'SPRING CREEK', 'SUNSET PARK', 'WILLIAMSBURG-CENTRAL', 'WILLIAMSBURG-EAST', 'WILLIAMSBURG-NORTH', 'WILLIAMSBURG-SOUTH', 'WINDSOR TERRACE', 'WYCKOFF HEIGHTS']\n",
            "\n",
            "4:\n",
            "['AIRPORT JFK', 'AIRPORT LA GUARDIA', 'ARVERNE', 'ASTORIA', 'BAYSIDE', 'BEECHHURST', 'BELLE HARBOR', 'BELLEROSE', 'BREEZY POINT', 'BRIARWOOD', 'BROAD CHANNEL', 'CAMBRIA HEIGHTS', 'COLLEGE POINT', 'CORONA', 'DOUGLASTON', 'EAST ELMHURST', 'ELMHURST', 'FAR ROCKAWAY', 'FLORAL PARK', 'FLUSHING MEADOW PARK', 'FLUSHING-NORTH', 'FLUSHING-SOUTH', 'FOREST HILLS', 'FRESH MEADOWS', 'GLEN OAKS', 'GLENDALE', 'HAMMELS', 'HILLCREST', 'HOLLIS', 'HOLLIS HILLS', 'HOLLISWOOD', 'HOWARD BEACH', 'JACKSON HEIGHTS', 'JAMAICA', 'JAMAICA BAY', 'JAMAICA ESTATES', 'JAMAICA HILLS', 'KEW GARDENS', 'LAURELTON', 'LITTLE NECK', 'LONG ISLAND CITY', 'MASPETH', 'MIDDLE VILLAGE', 'NEPONSIT', 'OAKLAND GARDENS', 'OZONE PARK', 'QUEENS VILLAGE', 'QUEENS-UNKNOWN', 'REGO PARK', 'RICHMOND HILL', 'RIDGEWOOD', 'ROCKAWAY PARK', 'ROSEDALE', 'SO. JAMAICA-BAISLEY PARK', 'SOUTH JAMAICA', 'SOUTH OZONE PARK', 'SPRINGFIELD GARDENS', 'ST. ALBANS', 'SUNNYSIDE', 'WHITESTONE', 'WOODHAVEN', 'WOODSIDE']\n",
            "\n",
            "5:\n",
            "['ANNADALE', 'ARDEN HEIGHTS', 'ARROCHAR', 'ARROCHAR-SHORE ACRES', 'BLOOMFIELD', 'BULLS HEAD', 'CASTLETON CORNERS', 'CLOVE LAKES', 'CONCORD', 'CONCORD-FOX HILLS', 'DONGAN HILLS', 'DONGAN HILLS-COLONY', 'DONGAN HILLS-OLD TOWN', 'ELTINGVILLE', 'EMERSON HILL', 'FRESH KILLS', 'GRANT CITY', 'GRASMERE', 'GREAT KILLS', 'GREAT KILLS-BAY TERRACE', 'GRYMES HILL', 'HUGUENOT', 'LIVINGSTON', 'MANOR HEIGHTS', 'MARINERS HARBOR', 'MIDLAND BEACH', 'NEW BRIGHTON', 'NEW BRIGHTON-ST. GEORGE', 'NEW DORP', 'NEW DORP-BEACH', 'NEW DORP-HEIGHTS', 'NEW SPRINGVILLE', 'OAKWOOD', 'OAKWOOD-BEACH', 'PLEASANT PLAINS', 'PORT IVORY', 'PORT RICHMOND', 'PRINCES BAY', 'RICHMONDTOWN', 'RICHMONDTOWN-LIGHTHS HILL', 'ROSEBANK', 'ROSSVILLE', 'ROSSVILLE-CHARLESTON', 'ROSSVILLE-PORT MOBIL', 'ROSSVILLE-RICHMOND VALLEY', 'SILVER LAKE', 'SOUTH BEACH', 'STAPLETON', 'STAPLETON-CLIFTON', 'STATEN ISLAND-UNKNOWN', 'SUNNYSIDE', 'TODT HILL', 'TOMPKINSVILLE', 'TOTTENVILLE', 'TRAVIS', 'WEST NEW BRIGHTON', 'WESTERLEIGH', 'WILLOWBROOK', 'WOODROW']\n"
          ]
        }
      ]
    },
    {
      "cell_type": "markdown",
      "source": [
        "Changes borough mapping from a number to numeric convention"
      ],
      "metadata": {
        "id": "51ZUjuj9-iJW"
      }
    },
    {
      "cell_type": "code",
      "source": [
        "### Creates a dictonary to map each number to the associated borough.\n",
        "borough_map = {\n",
        "    1: 'Manhattan',\n",
        "    2: 'Bronx',\n",
        "    3: 'Brooklyn',\n",
        "    4: 'Queens',\n",
        "    5: 'Staten Island'\n",
        "}\n",
        "\n",
        "df_crit['borough'] = df_crit['borough'].map(borough_map)"
      ],
      "metadata": {
        "id": "UmZ4SbY8-mjY"
      },
      "execution_count": 8,
      "outputs": []
    },
    {
      "cell_type": "code",
      "source": [
        "### Views the dataframe\n",
        "df_crit.info()"
      ],
      "metadata": {
        "colab": {
          "base_uri": "https://localhost:8080/"
        },
        "id": "G3DzNHeZrmgt",
        "outputId": "3ed89e61-2cd3-46bb-c748-ac4f9d88f552"
      },
      "execution_count": 9,
      "outputs": [
        {
          "output_type": "stream",
          "name": "stdout",
          "text": [
            "<class 'pandas.core.frame.DataFrame'>\n",
            "RangeIndex: 760914 entries, 0 to 760913\n",
            "Data columns (total 10 columns):\n",
            " #   Column             Non-Null Count   Dtype  \n",
            "---  ------             --------------   -----  \n",
            " 0   total_units        659062 non-null  float64\n",
            " 1   borough            760914 non-null  object \n",
            " 2   neighborhood       760914 non-null  object \n",
            " 3   zip_code           760866 non-null  float64\n",
            " 4   total_units        659062 non-null  float64\n",
            " 5   land_square_feet   573219 non-null  object \n",
            " 6   gross_square_feet  573222 non-null  object \n",
            " 7   year_built         727043 non-null  float64\n",
            " 8   sale_price         760914 non-null  int64  \n",
            " 9   sale_date          760914 non-null  object \n",
            "dtypes: float64(4), int64(1), object(5)\n",
            "memory usage: 58.1+ MB\n"
          ]
        }
      ]
    },
    {
      "cell_type": "markdown",
      "source": [
        "Checks new dataframe for missing values   "
      ],
      "metadata": {
        "id": "yvlsi50XsY6V"
      }
    },
    {
      "cell_type": "code",
      "source": [
        "print(\"Missing values per column:\")\n",
        "missing_values = df_crit.isnull().sum()\n",
        "print(missing_values)"
      ],
      "metadata": {
        "colab": {
          "base_uri": "https://localhost:8080/"
        },
        "id": "sYNkcOR6sZCM",
        "outputId": "837142cc-f9db-410e-b28b-1d704d4d568f"
      },
      "execution_count": 10,
      "outputs": [
        {
          "output_type": "stream",
          "name": "stdout",
          "text": [
            "Missing values per column:\n",
            "total_units          101852\n",
            "borough                   0\n",
            "neighborhood              0\n",
            "zip_code                 48\n",
            "total_units          101852\n",
            "land_square_feet     187695\n",
            "gross_square_feet    187692\n",
            "year_built            33871\n",
            "sale_price                0\n",
            "sale_date                 0\n",
            "dtype: int64\n"
          ]
        }
      ]
    },
    {
      "cell_type": "markdown",
      "source": [
        "Drops null, nan, and zero values"
      ],
      "metadata": {
        "id": "CQHXEsSEsnh3"
      }
    },
    {
      "cell_type": "code",
      "source": [
        "df_clean = df_crit.dropna()\n",
        "df_clean = df_clean[(df_clean != 0).all(axis=1)]\n",
        "print(df_clean.shape)"
      ],
      "metadata": {
        "colab": {
          "base_uri": "https://localhost:8080/"
        },
        "id": "ZSESFeCrsnn5",
        "outputId": "92cd23af-1a5c-4d7b-b50e-428c24ea7584"
      },
      "execution_count": 11,
      "outputs": [
        {
          "output_type": "stream",
          "name": "stdout",
          "text": [
            "(295386, 10)\n"
          ]
        }
      ]
    },
    {
      "cell_type": "code",
      "source": [
        "print(\"Missing values per column:\")\n",
        "missing_values = df_clean.isnull().sum()\n",
        "print(missing_values)"
      ],
      "metadata": {
        "colab": {
          "base_uri": "https://localhost:8080/"
        },
        "id": "2y6u4UB2tXVz",
        "outputId": "621d763b-2f41-48c6-93e9-46f886a0b44c"
      },
      "execution_count": 12,
      "outputs": [
        {
          "output_type": "stream",
          "name": "stdout",
          "text": [
            "Missing values per column:\n",
            "total_units          0\n",
            "borough              0\n",
            "neighborhood         0\n",
            "zip_code             0\n",
            "total_units          0\n",
            "land_square_feet     0\n",
            "gross_square_feet    0\n",
            "year_built           0\n",
            "sale_price           0\n",
            "sale_date            0\n",
            "dtype: int64\n"
          ]
        }
      ]
    },
    {
      "cell_type": "markdown",
      "source": [
        "Check the count of just 2024 sales."
      ],
      "metadata": {
        "id": "QsTcukN6wRuj"
      }
    },
    {
      "cell_type": "code",
      "source": [
        "### Ensures that sale_date is in datetime\n",
        "df_crit['sale_date'] = pd.to_datetime(df_crit['sale_date'], errors='coerce')\n",
        "\n",
        "### Count rows for 2024\n",
        "count_2024 = df_crit[df_crit['sale_date'].dt.year == 2024].shape[0]\n",
        "\n",
        "print(f\"Number of sales in 2024: {count_2024}\")"
      ],
      "metadata": {
        "colab": {
          "base_uri": "https://localhost:8080/"
        },
        "id": "wr3Eg9m9vSj_",
        "outputId": "29ef440a-c6c7-4d09-82a5-30de1c464192"
      },
      "execution_count": 13,
      "outputs": [
        {
          "output_type": "stream",
          "name": "stdout",
          "text": [
            "Number of sales in 2024: 78243\n"
          ]
        }
      ]
    },
    {
      "cell_type": "markdown",
      "source": [
        "Create a new dataframe just based on 2024 sales"
      ],
      "metadata": {
        "id": "aCA_bvY1wZ6i"
      }
    },
    {
      "cell_type": "code",
      "source": [
        "df_crit['sale_date'] = pd.to_datetime(df_crit['sale_date'], errors='coerce')\n",
        "df_2024 = df_crit[df_crit['sale_date'].dt.year == 2024].copy()\n",
        "df_2024 = df_2024.dropna(subset =[\"sale_price\"])"
      ],
      "metadata": {
        "id": "mJyEzEGvwY0M"
      },
      "execution_count": 14,
      "outputs": []
    },
    {
      "cell_type": "markdown",
      "source": [
        "Create bins for the target variable (Based of each individual borough pricing): Low, Medium, High, Very High"
      ],
      "metadata": {
        "id": "uo3K9Rf87ac7"
      }
    },
    {
      "cell_type": "code",
      "source": [
        "labels = ['Low','Medium','High','Very High']\n",
        "\n",
        "### Function designed to safetly put each building sale into a price bucket based on the prices within each borough.\n",
        "### Function takes a series of prices for one borough and returns categorical labels.\n",
        "def quartiles_by_rank_safe(s: pd.Series) -> pd.Series:\n",
        "    ### Creates an empty output, all NAs which will align to the input text.\n",
        "    \"\"\"\n",
        "    Per-borough binning with robust handling of edge cases:\n",
        "      - 0 rows  -> all NA\n",
        "      - 1 unique value -> label everything 'Medium'\n",
        "      - n < 4 rows -> use n bins; labels are the first n of labels\n",
        "      - otherwise -> 4 bins (quartiles)\n",
        "    Output is always a Categorical with the full label set so plots show 0-count bins.\n",
        "    \"\"\"\n",
        "    out = pd.Series(pd.NA, index=s.index, dtype=\"object\")\n",
        "    m = s.notna()\n",
        "    n = int(m.sum())\n",
        "    ### If there are 0 values return all NA\n",
        "    if n == 0:\n",
        "        ### nothing to do\n",
        "        return out.astype(CategoricalDtype(categories=labels, ordered=True))\n",
        "\n",
        "    ### make strictly increasing ranks to avoid duplicate bin edges\n",
        "    ### This also is used as a tie breaker.\n",
        "    r = s.rank(method='first')\n",
        "\n",
        "    ### all values the same, call them 'Medium'\n",
        "    if s[m].nunique() == 1:\n",
        "        out[m] = 'Medium'\n",
        "        return out.astype(CategoricalDtype(categories=labels, ordered=True))\n",
        "\n",
        "    ### choose how many bins we can safely make\n",
        "    q = min(4, n)  ### if n<4, use n bins\n",
        "    binned = pd.qcut(r[m], q, labels=labels[:q], duplicates='drop')\n",
        "    out[m] = binned.astype(str)\n",
        "\n",
        "    ### ensure the column carries all categories for consistent plotting\n",
        "    return out.astype(CategoricalDtype(categories=labels, ordered=True))\n",
        "\n",
        "### Apply per-borough\n",
        "df_2024['price_category'] = (\n",
        "    df_2024.groupby('borough', group_keys=False)['sale_price']\n",
        "           .apply(quartiles_by_rank_safe)\n",
        ")"
      ],
      "metadata": {
        "id": "DDPhctur8_ka"
      },
      "execution_count": 15,
      "outputs": []
    },
    {
      "cell_type": "markdown",
      "source": [
        "Saving 2024 Dataframe to CSV in order to by pass full import for future cases"
      ],
      "metadata": {
        "id": "vh_xNDGsRSa4"
      }
    },
    {
      "cell_type": "code",
      "source": [
        "\n",
        "df.to_csv(\"df_2024.csv\", index = True)"
      ],
      "metadata": {
        "id": "Cnxt62WxRSuD"
      },
      "execution_count": 16,
      "outputs": []
    },
    {
      "cell_type": "markdown",
      "source": [
        "Visualtion of price spread based on borough."
      ],
      "metadata": {
        "id": "6hGgo0LU_vxq"
      }
    },
    {
      "cell_type": "code",
      "source": [
        "### Removes any values less than 0.\n",
        "df_2024 = df_2024[df_2024['sale_price'] > 0]\n",
        "\n",
        "### For visulization purposes applies a log base 10 scale.\n",
        "df_2024['log_sale_price'] = np.log10(df_2024['sale_price'])\n",
        "\n",
        "### Creates the plots\n",
        "sns.set_style(\"whitegrid\")\n",
        "fig, axes = plt.subplots(1, 5, figsize=(25, 6), sharey=True)\n",
        "\n",
        "#### uses a four loop to iterate over the 5 different boroughs within the dataset\n",
        "for ax, borough in zip(axes, borough_map.values()):\n",
        "    sns.boxplot(\n",
        "        data=df_2024[df_2024['borough'] == borough],\n",
        "        y='log_sale_price',\n",
        "        ax=ax\n",
        "    )\n",
        "    ax.set_title(borough)\n",
        "    ax.set_xlabel('')\n",
        "    ax.set_ylabel('Sale Price (Log10)' if borough == 'Manhattan' else '')\n",
        "\n",
        "### format ticks back to dollars for reference\n",
        "for ax in axes:\n",
        "    ax.set_yticks(range(3, 10))  # 10^3 to 10^9\n",
        "    ax.set_yticklabels([f\"${10**y:,.0f}\" for y in range(3, 10)])\n",
        "\n",
        "\n",
        "plt.tight_layout()\n",
        "plt.show()"
      ],
      "metadata": {
        "colab": {
          "base_uri": "https://localhost:8080/",
          "height": 539
        },
        "id": "z6PZGaQO_t4Y",
        "outputId": "82436fb4-ec8c-4c26-91cc-9aabf1d23547"
      },
      "execution_count": 17,
      "outputs": [
        {
          "output_type": "display_data",
          "data": {
            "text/plain": [
              "<Figure size 2500x600 with 5 Axes>"
            ],
            "image/png": "[encoded data removed]"
          },
          "metadata": {}
        }
      ]
    },
    {
      "cell_type": "markdown",
      "source": [
        "Visualization for sales volume for the 2024 year"
      ],
      "metadata": {
        "id": "YR2VTelQCUIv"
      }
    },
    {
      "cell_type": "code",
      "source": [
        "### Prepare monthly counts\n",
        "monthly_counts = (\n",
        "    df_2024.groupby([df_2024['sale_date'].dt.to_period('M').astype(str), 'borough'])\n",
        "           .size()\n",
        "           .reset_index(name='count')\n",
        ")\n",
        "\n",
        "### Plot as line chart\n",
        "plt.figure(figsize=(12, 6))\n",
        "sns.lineplot(data=monthly_counts, x='sale_date', y='count', hue='borough', marker='o')\n",
        "\n",
        "plt.xticks(rotation=45, ha='right')\n",
        "plt.xlabel('Month of Sale')\n",
        "plt.ylabel('Number of Sales')\n",
        "plt.title('Monthly Sales Volume by Borough (2024)')\n",
        "plt.legend(title='Borough', loc='best')\n",
        "\n",
        "plt.tight_layout()\n",
        "plt.show()"
      ],
      "metadata": {
        "colab": {
          "base_uri": "https://localhost:8080/",
          "height": 607
        },
        "id": "LF02xAHJCZHH",
        "outputId": "8a77376e-9e7f-40db-88d9-d59e0faf4350"
      },
      "execution_count": 18,
      "outputs": [
        {
          "output_type": "display_data",
          "data": {
            "text/plain": [
              "<Figure size 1200x600 with 1 Axes>"
            ],
            "image/png": "[encoded data removed]"
          },
          "metadata": {}
        }
      ]
    },
    {
      "cell_type": "markdown",
      "source": [
        "Letter value plot - similar to box plot but captures tails better"
      ],
      "metadata": {
        "id": "cPz0Vr3QEEMp"
      }
    },
    {
      "cell_type": "code",
      "source": [
        "name_map = {1: \"Manhattan\", 2: \"Bronx\", 3: \"Brooklyn\", 4: \"Queens\", 5: \"Staten Island\"}\n",
        "order = [\"Manhattan\",\"Bronx\",\"Brooklyn\",\"Queens\",\"Staten Island\"]\n",
        "\n",
        "df_plot = df.copy()\n",
        "df_plot[\"borough\"] = df_plot[\"borough\"].map(name_map)\n",
        "\n",
        "plt.figure(figsize=(12,5))\n",
        "sns.boxenplot(\n",
        "    data=df_plot, x=\"borough\", y=\"sale_price\",\n",
        "    order=order, palette=\"Set2\", showfliers=False\n",
        ")\n",
        "plt.yscale(\"log\")\n",
        "plt.xlabel(\"Borough\"); plt.ylabel(\"Sale Price (log)\")\n",
        "plt.title(\"Sale Price Distribution by Borough (Boxen)\")\n",
        "plt.tight_layout(); plt.show()"
      ],
      "metadata": {
        "colab": {
          "base_uri": "https://localhost:8080/",
          "height": 597
        },
        "id": "PhzQuTY6FhNW",
        "outputId": "5ec72559-d35d-4454-ce3a-6930fa67c897"
      },
      "execution_count": 68,
      "outputs": [
        {
          "output_type": "stream",
          "name": "stderr",
          "text": [
            "/tmp/ipython-input-3736597414.py:8: FutureWarning: \n",
            "\n",
            "Passing `palette` without assigning `hue` is deprecated and will be removed in v0.14.0. Assign the `x` variable to `hue` and set `legend=False` for the same effect.\n",
            "\n",
            "  sns.boxenplot(\n"
          ]
        },
        {
          "output_type": "display_data",
          "data": {
            "text/plain": [
              "<Figure size 1200x500 with 1 Axes>"
            ],
            "image/png": "[encoded data removed]"
          },
          "metadata": {}
        }
      ]
    },
    {
      "cell_type": "code",
      "source": [
        "### Checks to ensure that groupings are 25% across the different bins.\n",
        "df_2024.groupby(['borough', 'price_category']).size()"
      ],
      "metadata": {
        "colab": {
          "base_uri": "https://localhost:8080/",
          "height": 779
        },
        "id": "QIsX3Utifl8f",
        "outputId": "70720c19-d3e1-4469-c058-4b288923c5ab"
      },
      "execution_count": 20,
      "outputs": [
        {
          "output_type": "stream",
          "name": "stderr",
          "text": [
            "/tmp/ipython-input-3486706688.py:2: FutureWarning: The default of observed=False is deprecated and will be changed to True in a future version of pandas. Pass observed=False to retain current behavior or observed=True to adopt the future default and silence this warning.\n",
            "  df_2024.groupby(['borough', 'price_category']).size()\n"
          ]
        },
        {
          "output_type": "execute_result",
          "data": {
            "text/plain": [
              "borough        price_category\n",
              "Bronx          Low                  0\n",
              "               Medium            1095\n",
              "               High              1550\n",
              "               Very High         1551\n",
              "Brooklyn       Low                  0\n",
              "               Medium            2674\n",
              "               High              5498\n",
              "               Very High         5499\n",
              "Manhattan      Low                380\n",
              "               Medium            4345\n",
              "               High              4344\n",
              "               Very High         4345\n",
              "Queens         Low                  0\n",
              "               Medium            3384\n",
              "               High              6250\n",
              "               Very High         6251\n",
              "Staten Island  Low                  0\n",
              "               Medium            1274\n",
              "               High              1916\n",
              "               Very High         1916\n",
              "dtype: int64"
            ],
            "text/html": [
              "<div>\n",
              "<style scoped>\n",
              "    .dataframe tbody tr th:only-of-type {\n",
              "        vertical-align: middle;\n",
              "    }\n",
              "\n",
              "    .dataframe tbody tr th {\n",
              "        vertical-align: top;\n",
              "    }\n",
              "\n",
              "    .dataframe thead th {\n",
              "        text-align: right;\n",
              "    }\n",
              "</style>\n",
              "<table border=\"1\" class=\"dataframe\">\n",
              "  <thead>\n",
              "    <tr style=\"text-align: right;\">\n",
              "      <th></th>\n",
              "      <th></th>\n",
              "      <th>0</th>\n",
              "    </tr>\n",
              "    <tr>\n",
              "      <th>borough</th>\n",
              "      <th>price_category</th>\n",
              "      <th></th>\n",
              "    </tr>\n",
              "  </thead>\n",
              "  <tbody>\n",
              "    <tr>\n",
              "      <th rowspan=\"4\" valign=\"top\">Bronx</th>\n",
              "      <th>Low</th>\n",
              "      <td>0</td>\n",
              "    </tr>\n",
              "    <tr>\n",
              "      <th>Medium</th>\n",
              "      <td>1095</td>\n",
              "    </tr>\n",
              "    <tr>\n",
              "      <th>High</th>\n",
              "      <td>1550</td>\n",
              "    </tr>\n",
              "    <tr>\n",
              "      <th>Very High</th>\n",
              "      <td>1551</td>\n",
              "    </tr>\n",
              "    <tr>\n",
              "      <th rowspan=\"4\" valign=\"top\">Brooklyn</th>\n",
              "      <th>Low</th>\n",
              "      <td>0</td>\n",
              "    </tr>\n",
              "    <tr>\n",
              "      <th>Medium</th>\n",
              "      <td>2674</td>\n",
              "    </tr>\n",
              "    <tr>\n",
              "      <th>High</th>\n",
              "      <td>5498</td>\n",
              "    </tr>\n",
              "    <tr>\n",
              "      <th>Very High</th>\n",
              "      <td>5499</td>\n",
              "    </tr>\n",
              "    <tr>\n",
              "      <th rowspan=\"4\" valign=\"top\">Manhattan</th>\n",
              "      <th>Low</th>\n",
              "      <td>380</td>\n",
              "    </tr>\n",
              "    <tr>\n",
              "      <th>Medium</th>\n",
              "      <td>4345</td>\n",
              "    </tr>\n",
              "    <tr>\n",
              "      <th>High</th>\n",
              "      <td>4344</td>\n",
              "    </tr>\n",
              "    <tr>\n",
              "      <th>Very High</th>\n",
              "      <td>4345</td>\n",
              "    </tr>\n",
              "    <tr>\n",
              "      <th rowspan=\"4\" valign=\"top\">Queens</th>\n",
              "      <th>Low</th>\n",
              "      <td>0</td>\n",
              "    </tr>\n",
              "    <tr>\n",
              "      <th>Medium</th>\n",
              "      <td>3384</td>\n",
              "    </tr>\n",
              "    <tr>\n",
              "      <th>High</th>\n",
              "      <td>6250</td>\n",
              "    </tr>\n",
              "    <tr>\n",
              "      <th>Very High</th>\n",
              "      <td>6251</td>\n",
              "    </tr>\n",
              "    <tr>\n",
              "      <th rowspan=\"4\" valign=\"top\">Staten Island</th>\n",
              "      <th>Low</th>\n",
              "      <td>0</td>\n",
              "    </tr>\n",
              "    <tr>\n",
              "      <th>Medium</th>\n",
              "      <td>1274</td>\n",
              "    </tr>\n",
              "    <tr>\n",
              "      <th>High</th>\n",
              "      <td>1916</td>\n",
              "    </tr>\n",
              "    <tr>\n",
              "      <th>Very High</th>\n",
              "      <td>1916</td>\n",
              "    </tr>\n",
              "  </tbody>\n",
              "</table>\n",
              "</div><br><label><b>dtype:</b> int64</label>"
            ]
          },
          "metadata": {},
          "execution_count": 20
        }
      ]
    },
    {
      "cell_type": "markdown",
      "source": [
        "Analysis"
      ],
      "metadata": {
        "id": "W1NQ0dAJGOxU"
      }
    },
    {
      "cell_type": "markdown",
      "source": [
        "First Step - One hot encode borough variables"
      ],
      "metadata": {
        "id": "8_AGychuJ_Le"
      }
    },
    {
      "cell_type": "code",
      "source": [
        "borough_encoded = pd.get_dummies(df_2024['borough'], prefix='borough')\n",
        "df_2024_encoded = pd.concat([df_2024, borough_encoded], axis=1)\n",
        "print(df_2024_encoded.head())"
      ],
      "metadata": {
        "colab": {
          "base_uri": "https://localhost:8080/"
        },
        "id": "n7yHKxD7GQqo",
        "outputId": "20824108-590e-4c49-e1db-f79d99fe1ee7"
      },
      "execution_count": 21,
      "outputs": [
        {
          "output_type": "stream",
          "name": "stdout",
          "text": [
            "        total_units   borough          neighborhood  zip_code  total_units  \\\n",
            "682684          3.0  Brooklyn   OCEAN PARKWAY-SOUTH   11223.0          3.0   \n",
            "682687          3.0  Brooklyn  WILLIAMSBURG-CENTRAL   11206.0          3.0   \n",
            "682698          2.0    Queens          HOLLIS HILLS   11427.0          2.0   \n",
            "682706          2.0    Queens   SPRINGFIELD GARDENS   11434.0          2.0   \n",
            "682714          NaN     Bronx  BEDFORD PARK/NORWOOD   10458.0          NaN   \n",
            "\n",
            "       land_square_feet gross_square_feet  year_built  sale_price  sale_date  \\\n",
            "682684            1,801             3,840      1930.0          10 2024-01-01   \n",
            "682687            2,000             2,432      1899.0      272000 2024-01-01   \n",
            "682698            4,000             1,820      1960.0          10 2024-01-01   \n",
            "682706            3,117             1,942      1985.0          10 2024-01-01   \n",
            "682714              NaN               NaN      1955.0      100000 2024-01-02   \n",
            "\n",
            "       price_category  log_sale_price  borough_Bronx  borough_Brooklyn  \\\n",
            "682684         Medium        1.000000          False              True   \n",
            "682687         Medium        5.434569          False              True   \n",
            "682698         Medium        1.000000          False             False   \n",
            "682706         Medium        1.000000          False             False   \n",
            "682714         Medium        5.000000           True             False   \n",
            "\n",
            "        borough_Manhattan  borough_Queens  borough_Staten Island  \n",
            "682684              False           False                  False  \n",
            "682687              False           False                  False  \n",
            "682698              False            True                  False  \n",
            "682706              False            True                  False  \n",
            "682714              False           False                  False  \n"
          ]
        }
      ]
    },
    {
      "cell_type": "markdown",
      "source": [
        "Second Step - Label target and Features"
      ],
      "metadata": {
        "id": "R_tnqOi4Lo1w"
      }
    },
    {
      "cell_type": "code",
      "source": [
        "features = [\"total_units\", \"land_square_feet\", \"gross_square_feet\", \"year_built\", \"borough_Bronx\", \"borough_Brooklyn\", \"borough_Manhattan\",\"borough_Queens\", \"borough_Staten Island\"]\n",
        "taget = \"price_category\""
      ],
      "metadata": {
        "id": "ndTsxcBHLpEr"
      },
      "execution_count": 22,
      "outputs": []
    },
    {
      "cell_type": "markdown",
      "source": [
        "Remove any excess characters and convert to numeric"
      ],
      "metadata": {
        "id": "b-YBzv6tSlEs"
      }
    },
    {
      "cell_type": "code",
      "source": [
        "### Edit to drop extra spacing\n",
        "df_2024_encoded.columns = df_2024_encoded.columns.str.strip()\n",
        "\n",
        "### Checks for duplicate columns\n",
        "dups = df_2024_encoded.columns[df_2024_encoded.columns.duplicated()].unique()\n",
        "print(\"Duplicate columns:\", dups.tolist())\n",
        "\n",
        "#### Drop duplicate-name columns, keeping the first occurrence\n",
        "df_2024_encoded = df_2024_encoded.loc[:, ~df_2024_encoded.columns.duplicated()]\n",
        "num_cols = [\"total_units\", \"land_square_feet\", \"gross_square_feet\", \"year_built\"]\n",
        "\n",
        "for c in num_cols:\n",
        "    df_2024_encoded[c] = pd.to_numeric(\n",
        "        df_2024_encoded[c].astype(str).str.replace(r'[^\\d\\.\\-]', '', regex=True),\n",
        "        errors='coerce'\n",
        "    )"
      ],
      "metadata": {
        "colab": {
          "base_uri": "https://localhost:8080/"
        },
        "id": "ZijJ1bE8QF1u",
        "outputId": "78788acb-6bff-4528-8285-d4e52adf07f4"
      },
      "execution_count": 23,
      "outputs": [
        {
          "output_type": "stream",
          "name": "stdout",
          "text": [
            "Duplicate columns: ['total_units']\n"
          ]
        }
      ]
    },
    {
      "cell_type": "markdown",
      "source": [
        "Third Step - Split the data into features and targets, drop any 0 values"
      ],
      "metadata": {
        "id": "3DTooEPzNq3D"
      }
    },
    {
      "cell_type": "code",
      "source": [
        "X = df_2024_encoded[features]\n",
        "y = df_2024_encoded[taget]\n",
        "### Drop rows with missing values\n",
        "mask = X.notna().all(axis=1) & y.notna()\n",
        "X, y = X.loc[mask], y.loc[mask]\n"
      ],
      "metadata": {
        "id": "sCdaHAk3NrZY"
      },
      "execution_count": 24,
      "outputs": []
    },
    {
      "cell_type": "markdown",
      "source": [
        "Train and Split the Data"
      ],
      "metadata": {
        "id": "3-wJjCFXPUCd"
      }
    },
    {
      "cell_type": "code",
      "source": [
        "X_train, X_test, y_train, y_test = train_test_split(\n",
        "    X, y, test_size=0.30, random_state=42, stratify=y\n",
        ")"
      ],
      "metadata": {
        "id": "eazHd9H2PT8s"
      },
      "execution_count": 25,
      "outputs": []
    },
    {
      "cell_type": "markdown",
      "source": [
        "Apply standardization"
      ],
      "metadata": {
        "id": "EgTol3FCOnmA"
      }
    },
    {
      "cell_type": "code",
      "source": [
        "scaler = StandardScaler()\n",
        "X_train_scaled = scaler.fit_transform(X_train)\n",
        "X_test_scaled  = scaler.transform(X_test)"
      ],
      "metadata": {
        "id": "jvskrknuOl7W"
      },
      "execution_count": 26,
      "outputs": []
    },
    {
      "cell_type": "markdown",
      "source": [
        "Creates and fits the models"
      ],
      "metadata": {
        "id": "mesUNBqFTcBW"
      }
    },
    {
      "cell_type": "code",
      "source": [
        "models = {\n",
        "    \"Logistic Regression\": LogisticRegression(max_iter=1000),\n",
        "    \"Naive Bayes\": GaussianNB(),\n",
        "    \"Decision Tree\": DecisionTreeClassifier(),\n",
        "    \"Random Forest\": RandomForestClassifier(),\n",
        "    \"SVM\": SVC(),\n",
        "    \"KNN\": KNeighborsClassifier(),\n",
        "    ### unsupervised\n",
        "    \"KMeans\": KMeans(n_clusters=len(y_train.unique()), random_state=42)\n",
        "}\n",
        "\n",
        "### Fit models\n",
        "for name, model in models.items():\n",
        "    if name == \"KMeans\":\n",
        "      ### No y for KMeans\n",
        "        model.fit(X_train_scaled)\n",
        "    else:\n",
        "        model.fit(X_train_scaled, y_train)\n",
        "\n",
        "print(\"All models trained.\")"
      ],
      "metadata": {
        "colab": {
          "base_uri": "https://localhost:8080/"
        },
        "id": "0r14vNpBTyLS",
        "outputId": "166240bf-2d11-4bc7-d7a6-f378681f1913"
      },
      "execution_count": 27,
      "outputs": [
        {
          "output_type": "stream",
          "name": "stdout",
          "text": [
            "All models trained.\n"
          ]
        }
      ]
    },
    {
      "cell_type": "markdown",
      "source": [
        "Tests the model"
      ],
      "metadata": {
        "id": "lnn_jNIRVudt"
      }
    },
    {
      "cell_type": "code",
      "source": [
        "test_reports = {}\n",
        "test_preds = {}\n",
        "\n",
        "for name, model in models.items():\n",
        "    if name == \"KMeans\":\n",
        "        continue\n",
        "    model.fit(X_train_scaled, y_train)\n",
        "    y_pred = model.predict(X_test_scaled)\n",
        "    test_preds[name] = y_pred\n",
        "    test_reports[name] = classification_report(y_test, y_pred, output_dict=True)\n",
        "\n",
        "pd.DataFrame({m: r['accuracy'] for m, r in test_reports.items()}, index=['accuracy']).T"
      ],
      "metadata": {
        "colab": {
          "base_uri": "https://localhost:8080/",
          "height": 454
        },
        "id": "pWASrkSrVuwb",
        "outputId": "c4d952b1-c63b-43f4-8af4-74d10aaa9d9f"
      },
      "execution_count": 29,
      "outputs": [
        {
          "output_type": "stream",
          "name": "stderr",
          "text": [
            "/usr/local/lib/python3.11/dist-packages/sklearn/metrics/_classification.py:1565: UndefinedMetricWarning: Precision is ill-defined and being set to 0.0 in labels with no predicted samples. Use `zero_division` parameter to control this behavior.\n",
            "  _warn_prf(average, modifier, f\"{metric.capitalize()} is\", len(result))\n",
            "/usr/local/lib/python3.11/dist-packages/sklearn/metrics/_classification.py:1565: UndefinedMetricWarning: Precision is ill-defined and being set to 0.0 in labels with no predicted samples. Use `zero_division` parameter to control this behavior.\n",
            "  _warn_prf(average, modifier, f\"{metric.capitalize()} is\", len(result))\n",
            "/usr/local/lib/python3.11/dist-packages/sklearn/metrics/_classification.py:1565: UndefinedMetricWarning: Precision is ill-defined and being set to 0.0 in labels with no predicted samples. Use `zero_division` parameter to control this behavior.\n",
            "  _warn_prf(average, modifier, f\"{metric.capitalize()} is\", len(result))\n",
            "/usr/local/lib/python3.11/dist-packages/sklearn/metrics/_classification.py:1565: UndefinedMetricWarning: Precision is ill-defined and being set to 0.0 in labels with no predicted samples. Use `zero_division` parameter to control this behavior.\n",
            "  _warn_prf(average, modifier, f\"{metric.capitalize()} is\", len(result))\n",
            "/usr/local/lib/python3.11/dist-packages/sklearn/metrics/_classification.py:1565: UndefinedMetricWarning: Precision is ill-defined and being set to 0.0 in labels with no predicted samples. Use `zero_division` parameter to control this behavior.\n",
            "  _warn_prf(average, modifier, f\"{metric.capitalize()} is\", len(result))\n",
            "/usr/local/lib/python3.11/dist-packages/sklearn/metrics/_classification.py:1565: UndefinedMetricWarning: Precision is ill-defined and being set to 0.0 in labels with no predicted samples. Use `zero_division` parameter to control this behavior.\n",
            "  _warn_prf(average, modifier, f\"{metric.capitalize()} is\", len(result))\n"
          ]
        },
        {
          "output_type": "execute_result",
          "data": {
            "text/plain": [
              "                     accuracy\n",
              "Logistic Regression  0.548992\n",
              "Naive Bayes          0.387565\n",
              "Decision Tree        0.570140\n",
              "Random Forest        0.661779\n",
              "SVM                  0.584661\n",
              "KNN                  0.630481"
            ],
            "text/html": [
              "\n",
              "  <div id=\"df-1000af53-0422-4747-97ea-e697678c767f\" class=\"colab-df-container\">\n",
              "    <div>\n",
              "<style scoped>\n",
              "    .dataframe tbody tr th:only-of-type {\n",
              "        vertical-align: middle;\n",
              "    }\n",
              "\n",
              "    .dataframe tbody tr th {\n",
              "        vertical-align: top;\n",
              "    }\n",
              "\n",
              "    .dataframe thead th {\n",
              "        text-align: right;\n",
              "    }\n",
              "</style>\n",
              "<table border=\"1\" class=\"dataframe\">\n",
              "  <thead>\n",
              "    <tr style=\"text-align: right;\">\n",
              "      <th></th>\n",
              "      <th>accuracy</th>\n",
              "    </tr>\n",
              "  </thead>\n",
              "  <tbody>\n",
              "    <tr>\n",
              "      <th>Logistic Regression</th>\n",
              "      <td>0.548992</td>\n",
              "    </tr>\n",
              "    <tr>\n",
              "      <th>Naive Bayes</th>\n",
              "      <td>0.387565</td>\n",
              "    </tr>\n",
              "    <tr>\n",
              "      <th>Decision Tree</th>\n",
              "      <td>0.570140</td>\n",
              "    </tr>\n",
              "    <tr>\n",
              "      <th>Random Forest</th>\n",
              "      <td>0.661779</td>\n",
              "    </tr>\n",
              "    <tr>\n",
              "      <th>SVM</th>\n",
              "      <td>0.584661</td>\n",
              "    </tr>\n",
              "    <tr>\n",
              "      <th>KNN</th>\n",
              "      <td>0.630481</td>\n",
              "    </tr>\n",
              "  </tbody>\n",
              "</table>\n",
              "</div>\n",
              "    <div class=\"colab-df-buttons\">\n",
              "\n",
              "  <div class=\"colab-df-container\">\n",
              "    <button class=\"colab-df-convert\" onclick=\"convertToInteractive('df-1000af53-0422-4747-97ea-e697678c767f')\"\n",
              "            title=\"Convert this dataframe to an interactive table.\"\n",
              "            style=\"display:none;\">\n",
              "\n",
              "  <svg xmlns=\"http://www.w3.org/2000/svg\" height=\"24px\" viewBox=\"0 -960 960 960\">\n",
              "    <path d=\"M120-120v-720h720v720H120Zm60-500h600v-160H180v160Zm220 220h160v-160H400v160Zm0 220h160v-160H400v160ZM180-400h160v-160H180v160Zm440 0h160v-160H620v160ZM180-180h160v-160H180v160Zm440 0h160v-160H620v160Z\"/>\n",
              "  </svg>\n",
              "    </button>\n",
              "\n",
              "  <style>\n",
              "    .colab-df-container {\n",
              "      display:flex;\n",
              "      gap: 12px;\n",
              "    }\n",
              "\n",
              "    .colab-df-convert {\n",
              "      background-color: #E8F0FE;\n",
              "      border: none;\n",
              "      border-radius: 50%;\n",
              "      cursor: pointer;\n",
              "      display: none;\n",
              "      fill: #1967D2;\n",
              "      height: 32px;\n",
              "      padding: 0 0 0 0;\n",
              "      width: 32px;\n",
              "    }\n",
              "\n",
              "    .colab-df-convert:hover {\n",
              "      background-color: #E2EBFA;\n",
              "      box-shadow: 0px 1px 2px rgba(60, 64, 67, 0.3), 0px 1px 3px 1px rgba(60, 64, 67, 0.15);\n",
              "      fill: #174EA6;\n",
              "    }\n",
              "\n",
              "    .colab-df-buttons div {\n",
              "      margin-bottom: 4px;\n",
              "    }\n",
              "\n",
              "    [theme=dark] .colab-df-convert {\n",
              "      background-color: #3B4455;\n",
              "      fill: #D2E3FC;\n",
              "    }\n",
              "\n",
              "    [theme=dark] .colab-df-convert:hover {\n",
              "      background-color: #434B5C;\n",
              "      box-shadow: 0px 1px 3px 1px rgba(0, 0, 0, 0.15);\n",
              "      filter: drop-shadow(0px 1px 2px rgba(0, 0, 0, 0.3));\n",
              "      fill: #FFFFFF;\n",
              "    }\n",
              "  </style>\n",
              "\n",
              "    <script>\n",
              "      const buttonEl =\n",
              "        document.querySelector('#df-1000af53-0422-4747-97ea-e697678c767f button.colab-df-convert');\n",
              "      buttonEl.style.display =\n",
              "        google.colab.kernel.accessAllowed ? 'block' : 'none';\n",
              "\n",
              "      async function convertToInteractive(key) {\n",
              "        const element = document.querySelector('#df-1000af53-0422-4747-97ea-e697678c767f');\n",
              "        const dataTable =\n",
              "          await google.colab.kernel.invokeFunction('convertToInteractive',\n",
              "                                                    [key], {});\n",
              "        if (!dataTable) return;\n",
              "\n",
              "        const docLinkHtml = 'Like what you see? Visit the ' +\n",
              "          '<a target=\"_blank\" href=https://colab.research.google.com/notebooks/data_table.ipynb>data table notebook</a>'\n",
              "          + ' to learn more about interactive tables.';\n",
              "        element.innerHTML = '';\n",
              "        dataTable['output_type'] = 'display_data';\n",
              "        await google.colab.output.renderOutput(dataTable, element);\n",
              "        const docLink = document.createElement('div');\n",
              "        docLink.innerHTML = docLinkHtml;\n",
              "        element.appendChild(docLink);\n",
              "      }\n",
              "    </script>\n",
              "  </div>\n",
              "\n",
              "\n",
              "    <div id=\"df-36618e1e-6772-4ac0-9e49-3570fb3931b3\">\n",
              "      <button class=\"colab-df-quickchart\" onclick=\"quickchart('df-36618e1e-6772-4ac0-9e49-3570fb3931b3')\"\n",
              "                title=\"Suggest charts\"\n",
              "                style=\"display:none;\">\n",
              "\n",
              "<svg xmlns=\"http://www.w3.org/2000/svg\" height=\"24px\"viewBox=\"0 0 24 24\"\n",
              "     width=\"24px\">\n",
              "    <g>\n",
              "        <path d=\"M19 3H5c-1.1 0-2 .9-2 2v14c0 1.1.9 2 2 2h14c1.1 0 2-.9 2-2V5c0-1.1-.9-2-2-2zM9 17H7v-7h2v7zm4 0h-2V7h2v10zm4 0h-2v-4h2v4z\"/>\n",
              "    </g>\n",
              "</svg>\n",
              "      </button>\n",
              "\n",
              "<style>\n",
              "  .colab-df-quickchart {\n",
              "      --bg-color: #E8F0FE;\n",
              "      --fill-color: #1967D2;\n",
              "      --hover-bg-color: #E2EBFA;\n",
              "      --hover-fill-color: #174EA6;\n",
              "      --disabled-fill-color: #AAA;\n",
              "      --disabled-bg-color: #DDD;\n",
              "  }\n",
              "\n",
              "  [theme=dark] .colab-df-quickchart {\n",
              "      --bg-color: #3B4455;\n",
              "      --fill-color: #D2E3FC;\n",
              "      --hover-bg-color: #434B5C;\n",
              "      --hover-fill-color: #FFFFFF;\n",
              "      --disabled-bg-color: #3B4455;\n",
              "      --disabled-fill-color: #666;\n",
              "  }\n",
              "\n",
              "  .colab-df-quickchart {\n",
              "    background-color: var(--bg-color);\n",
              "    border: none;\n",
              "    border-radius: 50%;\n",
              "    cursor: pointer;\n",
              "    display: none;\n",
              "    fill: var(--fill-color);\n",
              "    height: 32px;\n",
              "    padding: 0;\n",
              "    width: 32px;\n",
              "  }\n",
              "\n",
              "  .colab-df-quickchart:hover {\n",
              "    background-color: var(--hover-bg-color);\n",
              "    box-shadow: 0 1px 2px rgba(60, 64, 67, 0.3), 0 1px 3px 1px rgba(60, 64, 67, 0.15);\n",
              "    fill: var(--button-hover-fill-color);\n",
              "  }\n",
              "\n",
              "  .colab-df-quickchart-complete:disabled,\n",
              "  .colab-df-quickchart-complete:disabled:hover {\n",
              "    background-color: var(--disabled-bg-color);\n",
              "    fill: var(--disabled-fill-color);\n",
              "    box-shadow: none;\n",
              "  }\n",
              "\n",
              "  .colab-df-spinner {\n",
              "    border: 2px solid var(--fill-color);\n",
              "    border-color: transparent;\n",
              "    border-bottom-color: var(--fill-color);\n",
              "    animation:\n",
              "      spin 1s steps(1) infinite;\n",
              "  }\n",
              "\n",
              "  @keyframes spin {\n",
              "    0% {\n",
              "      border-color: transparent;\n",
              "      border-bottom-color: var(--fill-color);\n",
              "      border-left-color: var(--fill-color);\n",
              "    }\n",
              "    20% {\n",
              "      border-color: transparent;\n",
              "      border-left-color: var(--fill-color);\n",
              "      border-top-color: var(--fill-color);\n",
              "    }\n",
              "    30% {\n",
              "      border-color: transparent;\n",
              "      border-left-color: var(--fill-color);\n",
              "      border-top-color: var(--fill-color);\n",
              "      border-right-color: var(--fill-color);\n",
              "    }\n",
              "    40% {\n",
              "      border-color: transparent;\n",
              "      border-right-color: var(--fill-color);\n",
              "      border-top-color: var(--fill-color);\n",
              "    }\n",
              "    60% {\n",
              "      border-color: transparent;\n",
              "      border-right-color: var(--fill-color);\n",
              "    }\n",
              "    80% {\n",
              "      border-color: transparent;\n",
              "      border-right-color: var(--fill-color);\n",
              "      border-bottom-color: var(--fill-color);\n",
              "    }\n",
              "    90% {\n",
              "      border-color: transparent;\n",
              "      border-bottom-color: var(--fill-color);\n",
              "    }\n",
              "  }\n",
              "</style>\n",
              "\n",
              "      <script>\n",
              "        async function quickchart(key) {\n",
              "          const quickchartButtonEl =\n",
              "            document.querySelector('#' + key + ' button');\n",
              "          quickchartButtonEl.disabled = true;  // To prevent multiple clicks.\n",
              "          quickchartButtonEl.classList.add('colab-df-spinner');\n",
              "          try {\n",
              "            const charts = await google.colab.kernel.invokeFunction(\n",
              "                'suggestCharts', [key], {});\n",
              "          } catch (error) {\n",
              "            console.error('Error during call to suggestCharts:', error);\n",
              "          }\n",
              "          quickchartButtonEl.classList.remove('colab-df-spinner');\n",
              "          quickchartButtonEl.classList.add('colab-df-quickchart-complete');\n",
              "        }\n",
              "        (() => {\n",
              "          let quickchartButtonEl =\n",
              "            document.querySelector('#df-36618e1e-6772-4ac0-9e49-3570fb3931b3 button');\n",
              "          quickchartButtonEl.style.display =\n",
              "            google.colab.kernel.accessAllowed ? 'block' : 'none';\n",
              "        })();\n",
              "      </script>\n",
              "    </div>\n",
              "\n",
              "    </div>\n",
              "  </div>\n"
            ],
            "application/vnd.google.colaboratory.intrinsic+json": {
              "type": "dataframe",
              "summary": "{\n  \"name\": \"pd\",\n  \"rows\": 6,\n  \"fields\": [\n    {\n      \"column\": \"accuracy\",\n      \"properties\": {\n        \"dtype\": \"number\",\n        \"std\": 0.0957073546732348,\n        \"min\": 0.3875652051318201,\n        \"max\": 0.6617792189482589,\n        \"num_unique_values\": 6,\n        \"samples\": [\n          0.5489919639080784,\n          0.3875652051318201,\n          0.6304807556746088\n        ],\n        \"semantic_type\": \"\",\n        \"description\": \"\"\n      }\n    }\n  ]\n}"
            }
          },
          "metadata": {},
          "execution_count": 29
        }
      ]
    },
    {
      "cell_type": "markdown",
      "source": [
        "Cross Validation Function - K Folds"
      ],
      "metadata": {
        "id": "Ms4-ZA4EkO_t"
      }
    },
    {
      "cell_type": "code",
      "source": [
        "skf = StratifiedKFold(n_splits=5, shuffle=True, random_state=42)\n",
        "\n",
        "scoring = {\n",
        "    \"accuracy\": \"accuracy\",\n",
        "    \"f1_macro\": make_scorer(f1_score, average=\"macro\", zero_division=0),\n",
        "    \"precision_macro\": make_scorer(precision_score, average=\"macro\", zero_division=0),\n",
        "    \"recall_macro\": make_scorer(recall_score, average=\"macro\", zero_division=0),\n",
        "}\n",
        "\n",
        "def cv_summary(name, est):\n",
        "    cv = cross_validate(est, X_train, y_train, cv=skf, scoring=scoring,\n",
        "                        n_jobs=-1, error_score='raise', return_train_score=False)\n",
        "    return pd.Series({\n",
        "        \"accuracy\":       cv[\"test_accuracy\"].mean(),\n",
        "        \"f1_macro\":       cv[\"test_f1_macro\"].mean(),\n",
        "        \"precision_macro\":cv[\"test_precision_macro\"].mean(),\n",
        "        \"recall_macro\":   cv[\"test_recall_macro\"].mean(),\n",
        "    }, name=name)\n",
        "\n",
        "results = []\n",
        "results.append(cv_summary(\"Logistic Regression\", make_pipeline(StandardScaler(), LogisticRegression(max_iter=5000))))\n",
        "results.append(cv_summary(\"Naive Bayes\", GaussianNB()))\n",
        "results.append(cv_summary(\"Decision Tree\", DecisionTreeClassifier(random_state=42)))\n",
        "results.append(cv_summary(\"Random Forest\", RandomForestClassifier(n_estimators=400, random_state=42, n_jobs=-1)))\n",
        "results.append(cv_summary(\"SVM\", make_pipeline(StandardScaler(), SVC(kernel=\"rbf\"))))\n",
        "results.append(cv_summary(\"KNN\", make_pipeline(StandardScaler(), KNeighborsClassifier(n_neighbors=15))))\n",
        "\n",
        "cv_mean = pd.DataFrame(results).round(3)\n",
        "cv_mean\n"
      ],
      "metadata": {
        "colab": {
          "base_uri": "https://localhost:8080/",
          "height": 274
        },
        "id": "KSVesZtAkPRU",
        "outputId": "94371e86-9498-4570-c5ba-6498f47ca94f"
      },
      "execution_count": 50,
      "outputs": [
        {
          "output_type": "stream",
          "name": "stderr",
          "text": [
            "/usr/local/lib/python3.11/dist-packages/joblib/externals/loky/process_executor.py:782: UserWarning: A worker stopped while some jobs were given to the executor. This can be caused by a too short worker timeout or by a memory leak.\n",
            "  warnings.warn(\n"
          ]
        },
        {
          "output_type": "execute_result",
          "data": {
            "text/plain": [
              "                     accuracy  f1_macro  precision_macro  recall_macro\n",
              "Logistic Regression     0.538     0.223            0.266         0.267\n",
              "Naive Bayes             0.410     0.193            0.274         0.286\n",
              "Decision Tree           0.573     0.430            0.442         0.436\n",
              "Random Forest           0.655     0.489            0.581         0.462\n",
              "SVM                     0.590     0.301            0.288         0.318\n",
              "KNN                     0.663     0.363            0.464         0.374"
            ],
            "text/html": [
              "\n",
              "  <div id=\"df-e7ecbad5-955f-4027-8b50-76dacf024d8f\" class=\"colab-df-container\">\n",
              "    <div>\n",
              "<style scoped>\n",
              "    .dataframe tbody tr th:only-of-type {\n",
              "        vertical-align: middle;\n",
              "    }\n",
              "\n",
              "    .dataframe tbody tr th {\n",
              "        vertical-align: top;\n",
              "    }\n",
              "\n",
              "    .dataframe thead th {\n",
              "        text-align: right;\n",
              "    }\n",
              "</style>\n",
              "<table border=\"1\" class=\"dataframe\">\n",
              "  <thead>\n",
              "    <tr style=\"text-align: right;\">\n",
              "      <th></th>\n",
              "      <th>accuracy</th>\n",
              "      <th>f1_macro</th>\n",
              "      <th>precision_macro</th>\n",
              "      <th>recall_macro</th>\n",
              "    </tr>\n",
              "  </thead>\n",
              "  <tbody>\n",
              "    <tr>\n",
              "      <th>Logistic Regression</th>\n",
              "      <td>0.538</td>\n",
              "      <td>0.223</td>\n",
              "      <td>0.266</td>\n",
              "      <td>0.267</td>\n",
              "    </tr>\n",
              "    <tr>\n",
              "      <th>Naive Bayes</th>\n",
              "      <td>0.410</td>\n",
              "      <td>0.193</td>\n",
              "      <td>0.274</td>\n",
              "      <td>0.286</td>\n",
              "    </tr>\n",
              "    <tr>\n",
              "      <th>Decision Tree</th>\n",
              "      <td>0.573</td>\n",
              "      <td>0.430</td>\n",
              "      <td>0.442</td>\n",
              "      <td>0.436</td>\n",
              "    </tr>\n",
              "    <tr>\n",
              "      <th>Random Forest</th>\n",
              "      <td>0.655</td>\n",
              "      <td>0.489</td>\n",
              "      <td>0.581</td>\n",
              "      <td>0.462</td>\n",
              "    </tr>\n",
              "    <tr>\n",
              "      <th>SVM</th>\n",
              "      <td>0.590</td>\n",
              "      <td>0.301</td>\n",
              "      <td>0.288</td>\n",
              "      <td>0.318</td>\n",
              "    </tr>\n",
              "    <tr>\n",
              "      <th>KNN</th>\n",
              "      <td>0.663</td>\n",
              "      <td>0.363</td>\n",
              "      <td>0.464</td>\n",
              "      <td>0.374</td>\n",
              "    </tr>\n",
              "  </tbody>\n",
              "</table>\n",
              "</div>\n",
              "    <div class=\"colab-df-buttons\">\n",
              "\n",
              "  <div class=\"colab-df-container\">\n",
              "    <button class=\"colab-df-convert\" onclick=\"convertToInteractive('df-e7ecbad5-955f-4027-8b50-76dacf024d8f')\"\n",
              "            title=\"Convert this dataframe to an interactive table.\"\n",
              "            style=\"display:none;\">\n",
              "\n",
              "  <svg xmlns=\"http://www.w3.org/2000/svg\" height=\"24px\" viewBox=\"0 -960 960 960\">\n",
              "    <path d=\"M120-120v-720h720v720H120Zm60-500h600v-160H180v160Zm220 220h160v-160H400v160Zm0 220h160v-160H400v160ZM180-400h160v-160H180v160Zm440 0h160v-160H620v160ZM180-180h160v-160H180v160Zm440 0h160v-160H620v160Z\"/>\n",
              "  </svg>\n",
              "    </button>\n",
              "\n",
              "  <style>\n",
              "    .colab-df-container {\n",
              "      display:flex;\n",
              "      gap: 12px;\n",
              "    }\n",
              "\n",
              "    .colab-df-convert {\n",
              "      background-color: #E8F0FE;\n",
              "      border: none;\n",
              "      border-radius: 50%;\n",
              "      cursor: pointer;\n",
              "      display: none;\n",
              "      fill: #1967D2;\n",
              "      height: 32px;\n",
              "      padding: 0 0 0 0;\n",
              "      width: 32px;\n",
              "    }\n",
              "\n",
              "    .colab-df-convert:hover {\n",
              "      background-color: #E2EBFA;\n",
              "      box-shadow: 0px 1px 2px rgba(60, 64, 67, 0.3), 0px 1px 3px 1px rgba(60, 64, 67, 0.15);\n",
              "      fill: #174EA6;\n",
              "    }\n",
              "\n",
              "    .colab-df-buttons div {\n",
              "      margin-bottom: 4px;\n",
              "    }\n",
              "\n",
              "    [theme=dark] .colab-df-convert {\n",
              "      background-color: #3B4455;\n",
              "      fill: #D2E3FC;\n",
              "    }\n",
              "\n",
              "    [theme=dark] .colab-df-convert:hover {\n",
              "      background-color: #434B5C;\n",
              "      box-shadow: 0px 1px 3px 1px rgba(0, 0, 0, 0.15);\n",
              "      filter: drop-shadow(0px 1px 2px rgba(0, 0, 0, 0.3));\n",
              "      fill: #FFFFFF;\n",
              "    }\n",
              "  </style>\n",
              "\n",
              "    <script>\n",
              "      const buttonEl =\n",
              "        document.querySelector('#df-e7ecbad5-955f-4027-8b50-76dacf024d8f button.colab-df-convert');\n",
              "      buttonEl.style.display =\n",
              "        google.colab.kernel.accessAllowed ? 'block' : 'none';\n",
              "\n",
              "      async function convertToInteractive(key) {\n",
              "        const element = document.querySelector('#df-e7ecbad5-955f-4027-8b50-76dacf024d8f');\n",
              "        const dataTable =\n",
              "          await google.colab.kernel.invokeFunction('convertToInteractive',\n",
              "                                                    [key], {});\n",
              "        if (!dataTable) return;\n",
              "\n",
              "        const docLinkHtml = 'Like what you see? Visit the ' +\n",
              "          '<a target=\"_blank\" href=https://colab.research.google.com/notebooks/data_table.ipynb>data table notebook</a>'\n",
              "          + ' to learn more about interactive tables.';\n",
              "        element.innerHTML = '';\n",
              "        dataTable['output_type'] = 'display_data';\n",
              "        await google.colab.output.renderOutput(dataTable, element);\n",
              "        const docLink = document.createElement('div');\n",
              "        docLink.innerHTML = docLinkHtml;\n",
              "        element.appendChild(docLink);\n",
              "      }\n",
              "    </script>\n",
              "  </div>\n",
              "\n",
              "\n",
              "    <div id=\"df-7d4d5b77-1ffe-4650-81e2-641edd7f1e8b\">\n",
              "      <button class=\"colab-df-quickchart\" onclick=\"quickchart('df-7d4d5b77-1ffe-4650-81e2-641edd7f1e8b')\"\n",
              "                title=\"Suggest charts\"\n",
              "                style=\"display:none;\">\n",
              "\n",
              "<svg xmlns=\"http://www.w3.org/2000/svg\" height=\"24px\"viewBox=\"0 0 24 24\"\n",
              "     width=\"24px\">\n",
              "    <g>\n",
              "        <path d=\"M19 3H5c-1.1 0-2 .9-2 2v14c0 1.1.9 2 2 2h14c1.1 0 2-.9 2-2V5c0-1.1-.9-2-2-2zM9 17H7v-7h2v7zm4 0h-2V7h2v10zm4 0h-2v-4h2v4z\"/>\n",
              "    </g>\n",
              "</svg>\n",
              "      </button>\n",
              "\n",
              "<style>\n",
              "  .colab-df-quickchart {\n",
              "      --bg-color: #E8F0FE;\n",
              "      --fill-color: #1967D2;\n",
              "      --hover-bg-color: #E2EBFA;\n",
              "      --hover-fill-color: #174EA6;\n",
              "      --disabled-fill-color: #AAA;\n",
              "      --disabled-bg-color: #DDD;\n",
              "  }\n",
              "\n",
              "  [theme=dark] .colab-df-quickchart {\n",
              "      --bg-color: #3B4455;\n",
              "      --fill-color: #D2E3FC;\n",
              "      --hover-bg-color: #434B5C;\n",
              "      --hover-fill-color: #FFFFFF;\n",
              "      --disabled-bg-color: #3B4455;\n",
              "      --disabled-fill-color: #666;\n",
              "  }\n",
              "\n",
              "  .colab-df-quickchart {\n",
              "    background-color: var(--bg-color);\n",
              "    border: none;\n",
              "    border-radius: 50%;\n",
              "    cursor: pointer;\n",
              "    display: none;\n",
              "    fill: var(--fill-color);\n",
              "    height: 32px;\n",
              "    padding: 0;\n",
              "    width: 32px;\n",
              "  }\n",
              "\n",
              "  .colab-df-quickchart:hover {\n",
              "    background-color: var(--hover-bg-color);\n",
              "    box-shadow: 0 1px 2px rgba(60, 64, 67, 0.3), 0 1px 3px 1px rgba(60, 64, 67, 0.15);\n",
              "    fill: var(--button-hover-fill-color);\n",
              "  }\n",
              "\n",
              "  .colab-df-quickchart-complete:disabled,\n",
              "  .colab-df-quickchart-complete:disabled:hover {\n",
              "    background-color: var(--disabled-bg-color);\n",
              "    fill: var(--disabled-fill-color);\n",
              "    box-shadow: none;\n",
              "  }\n",
              "\n",
              "  .colab-df-spinner {\n",
              "    border: 2px solid var(--fill-color);\n",
              "    border-color: transparent;\n",
              "    border-bottom-color: var(--fill-color);\n",
              "    animation:\n",
              "      spin 1s steps(1) infinite;\n",
              "  }\n",
              "\n",
              "  @keyframes spin {\n",
              "    0% {\n",
              "      border-color: transparent;\n",
              "      border-bottom-color: var(--fill-color);\n",
              "      border-left-color: var(--fill-color);\n",
              "    }\n",
              "    20% {\n",
              "      border-color: transparent;\n",
              "      border-left-color: var(--fill-color);\n",
              "      border-top-color: var(--fill-color);\n",
              "    }\n",
              "    30% {\n",
              "      border-color: transparent;\n",
              "      border-left-color: var(--fill-color);\n",
              "      border-top-color: var(--fill-color);\n",
              "      border-right-color: var(--fill-color);\n",
              "    }\n",
              "    40% {\n",
              "      border-color: transparent;\n",
              "      border-right-color: var(--fill-color);\n",
              "      border-top-color: var(--fill-color);\n",
              "    }\n",
              "    60% {\n",
              "      border-color: transparent;\n",
              "      border-right-color: var(--fill-color);\n",
              "    }\n",
              "    80% {\n",
              "      border-color: transparent;\n",
              "      border-right-color: var(--fill-color);\n",
              "      border-bottom-color: var(--fill-color);\n",
              "    }\n",
              "    90% {\n",
              "      border-color: transparent;\n",
              "      border-bottom-color: var(--fill-color);\n",
              "    }\n",
              "  }\n",
              "</style>\n",
              "\n",
              "      <script>\n",
              "        async function quickchart(key) {\n",
              "          const quickchartButtonEl =\n",
              "            document.querySelector('#' + key + ' button');\n",
              "          quickchartButtonEl.disabled = true;  // To prevent multiple clicks.\n",
              "          quickchartButtonEl.classList.add('colab-df-spinner');\n",
              "          try {\n",
              "            const charts = await google.colab.kernel.invokeFunction(\n",
              "                'suggestCharts', [key], {});\n",
              "          } catch (error) {\n",
              "            console.error('Error during call to suggestCharts:', error);\n",
              "          }\n",
              "          quickchartButtonEl.classList.remove('colab-df-spinner');\n",
              "          quickchartButtonEl.classList.add('colab-df-quickchart-complete');\n",
              "        }\n",
              "        (() => {\n",
              "          let quickchartButtonEl =\n",
              "            document.querySelector('#df-7d4d5b77-1ffe-4650-81e2-641edd7f1e8b button');\n",
              "          quickchartButtonEl.style.display =\n",
              "            google.colab.kernel.accessAllowed ? 'block' : 'none';\n",
              "        })();\n",
              "      </script>\n",
              "    </div>\n",
              "\n",
              "  <div id=\"id_b307ce3d-084c-4ce2-b6bd-122f5490e718\">\n",
              "    <style>\n",
              "      .colab-df-generate {\n",
              "        background-color: #E8F0FE;\n",
              "        border: none;\n",
              "        border-radius: 50%;\n",
              "        cursor: pointer;\n",
              "        display: none;\n",
              "        fill: #1967D2;\n",
              "        height: 32px;\n",
              "        padding: 0 0 0 0;\n",
              "        width: 32px;\n",
              "      }\n",
              "\n",
              "      .colab-df-generate:hover {\n",
              "        background-color: #E2EBFA;\n",
              "        box-shadow: 0px 1px 2px rgba(60, 64, 67, 0.3), 0px 1px 3px 1px rgba(60, 64, 67, 0.15);\n",
              "        fill: #174EA6;\n",
              "      }\n",
              "\n",
              "      [theme=dark] .colab-df-generate {\n",
              "        background-color: #3B4455;\n",
              "        fill: #D2E3FC;\n",
              "      }\n",
              "\n",
              "      [theme=dark] .colab-df-generate:hover {\n",
              "        background-color: #434B5C;\n",
              "        box-shadow: 0px 1px 3px 1px rgba(0, 0, 0, 0.15);\n",
              "        filter: drop-shadow(0px 1px 2px rgba(0, 0, 0, 0.3));\n",
              "        fill: #FFFFFF;\n",
              "      }\n",
              "    </style>\n",
              "    <button class=\"colab-df-generate\" onclick=\"generateWithVariable('cv_mean')\"\n",
              "            title=\"Generate code using this dataframe.\"\n",
              "            style=\"display:none;\">\n",
              "\n",
              "  <svg xmlns=\"http://www.w3.org/2000/svg\" height=\"24px\"viewBox=\"0 0 24 24\"\n",
              "       width=\"24px\">\n",
              "    <path d=\"M7,19H8.4L18.45,9,17,7.55,7,17.6ZM5,21V16.75L18.45,3.32a2,2,0,0,1,2.83,0l1.4,1.43a1.91,1.91,0,0,1,.58,1.4,1.91,1.91,0,0,1-.58,1.4L9.25,21ZM18.45,9,17,7.55Zm-12,3A5.31,5.31,0,0,0,4.9,8.1,5.31,5.31,0,0,0,1,6.5,5.31,5.31,0,0,0,4.9,4.9,5.31,5.31,0,0,0,6.5,1,5.31,5.31,0,0,0,8.1,4.9,5.31,5.31,0,0,0,12,6.5,5.46,5.46,0,0,0,6.5,12Z\"/>\n",
              "  </svg>\n",
              "    </button>\n",
              "    <script>\n",
              "      (() => {\n",
              "      const buttonEl =\n",
              "        document.querySelector('#id_b307ce3d-084c-4ce2-b6bd-122f5490e718 button.colab-df-generate');\n",
              "      buttonEl.style.display =\n",
              "        google.colab.kernel.accessAllowed ? 'block' : 'none';\n",
              "\n",
              "      buttonEl.onclick = () => {\n",
              "        google.colab.notebook.generateWithVariable('cv_mean');\n",
              "      }\n",
              "      })();\n",
              "    </script>\n",
              "  </div>\n",
              "\n",
              "    </div>\n",
              "  </div>\n"
            ],
            "application/vnd.google.colaboratory.intrinsic+json": {
              "type": "dataframe",
              "variable_name": "cv_mean",
              "summary": "{\n  \"name\": \"cv_mean\",\n  \"rows\": 6,\n  \"fields\": [\n    {\n      \"column\": \"accuracy\",\n      \"properties\": {\n        \"dtype\": \"number\",\n        \"std\": 0.09262127185479588,\n        \"min\": 0.41,\n        \"max\": 0.663,\n        \"num_unique_values\": 6,\n        \"samples\": [\n          0.538,\n          0.41,\n          0.663\n        ],\n        \"semantic_type\": \"\",\n        \"description\": \"\"\n      }\n    },\n    {\n      \"column\": \"f1_macro\",\n      \"properties\": {\n        \"dtype\": \"number\",\n        \"std\": 0.11607655519813924,\n        \"min\": 0.193,\n        \"max\": 0.489,\n        \"num_unique_values\": 6,\n        \"samples\": [\n          0.223,\n          0.193,\n          0.363\n        ],\n        \"semantic_type\": \"\",\n        \"description\": \"\"\n      }\n    },\n    {\n      \"column\": \"precision_macro\",\n      \"properties\": {\n        \"dtype\": \"number\",\n        \"std\": 0.12945488274555988,\n        \"min\": 0.266,\n        \"max\": 0.581,\n        \"num_unique_values\": 6,\n        \"samples\": [\n          0.266,\n          0.274,\n          0.464\n        ],\n        \"semantic_type\": \"\",\n        \"description\": \"\"\n      }\n    },\n    {\n      \"column\": \"recall_macro\",\n      \"properties\": {\n        \"dtype\": \"number\",\n        \"std\": 0.08027058406830405,\n        \"min\": 0.267,\n        \"max\": 0.462,\n        \"num_unique_values\": 6,\n        \"samples\": [\n          0.267,\n          0.286,\n          0.374\n        ],\n        \"semantic_type\": \"\",\n        \"description\": \"\"\n      }\n    }\n  ]\n}"
            }
          },
          "metadata": {},
          "execution_count": 50
        }
      ]
    },
    {
      "cell_type": "markdown",
      "source": [
        "from sklearn.model_selection import GridSearchCV\n",
        "\n",
        "rf_grid = {'n_estimators':[200,400],\n",
        "           'max_depth':[None,10,20],\n",
        "           'min_samples_split':[2,5]}\n",
        "svm_grid = {'C':[0.5,1,2], 'gamma':['scale','auto'], 'kernel':['rbf']}\n",
        "\n",
        "grids = {\n",
        "    'Random Forest': (models['Random Forest'], rf_grid),\n",
        "    'SVM': (models['SVM'], svm_grid)\n",
        "}\n",
        "\n",
        "best_models = {}\n",
        "for name, (base, grid) in grids.items():\n",
        "    gs = GridSearchCV(base, grid, cv=5, scoring='accuracy', n_jobs=-1)\n",
        "    gs.fit(X_train_scaled, y_train)\n",
        "    best_models[name] = gs.best_estimator_\n",
        "    print(name, gs.best_params_, gs.best_score_)"
      ],
      "metadata": {
        "id": "9bkzysT_XBMe"
      }
    },
    {
      "cell_type": "markdown",
      "source": [
        "Summary output and Best Model Winner - Single Hold Out"
      ],
      "metadata": {
        "id": "e0K5HXsH5ZxW"
      }
    },
    {
      "cell_type": "code",
      "source": [
        "\n",
        "np.random.seed(42)\n",
        "\n",
        "test_reports = {}\n",
        "y_preds = {}\n",
        "rows = []\n",
        "\n",
        "for name, model in models.items():\n",
        "    if name == \"KMeans\":\n",
        "        continue\n",
        "    ### single fit for both the table and winner\n",
        "    model.fit(X_train_scaled, y_train)\n",
        "    y_pred = model.predict(X_test_scaled)\n",
        "    y_preds[name] = y_pred\n",
        "\n",
        "    rep = classification_report(y_test, y_pred, output_dict=True)\n",
        "    test_reports[name] = rep\n",
        "\n",
        "    ### same as accuracy_score\n",
        "    acc = rep['accuracy']\n",
        "    prec_w, rec_w, f1_w = (rep['weighted avg']['precision'],\n",
        "                           rep['weighted avg']['recall'],\n",
        "                           rep['weighted avg']['f1-score'])\n",
        "    rows.append({\"model\": name, \"accuracy\": acc,\n",
        "                 \"precision_w\": prec_w, \"recall_w\": rec_w, \"f1_w\": f1_w})\n",
        "\n",
        "summary = (pd.DataFrame(rows).set_index(\"model\")\n",
        "           .sort_values(\"f1_w\", ascending=False))\n",
        "\n",
        "### pick the winner from the  summary below\n",
        "METRIC = \"accuracy\"\n",
        "best_model_name = summary[METRIC].idxmax()\n",
        "best_score = summary.loc[best_model_name, METRIC]\n",
        "\n",
        "print(summary.round(4))\n",
        "print(f\"\\nBest model: {best_model_name} ({METRIC} = {best_score:.4f})\")\n",
        "\n",
        "### Should match the output above. Previous versions were mismatched, this was placed as a checker.\n",
        "from sklearn.metrics import accuracy_score\n",
        "print(\"check:\", accuracy_score(y_test, y_preds[best_model_name]),\n",
        "                  test_reports[best_model_name]['accuracy'])"
      ],
      "metadata": {
        "colab": {
          "base_uri": "https://localhost:8080/"
        },
        "id": "0HANO-wd4tub",
        "outputId": "1ebcc88c-1c11-4c10-aafa-e6d3b4ab05bc"
      },
      "execution_count": 49,
      "outputs": [
        {
          "output_type": "stream",
          "name": "stderr",
          "text": [
            "/usr/local/lib/python3.11/dist-packages/sklearn/metrics/_classification.py:1565: UndefinedMetricWarning: Precision is ill-defined and being set to 0.0 in labels with no predicted samples. Use `zero_division` parameter to control this behavior.\n",
            "  _warn_prf(average, modifier, f\"{metric.capitalize()} is\", len(result))\n",
            "/usr/local/lib/python3.11/dist-packages/sklearn/metrics/_classification.py:1565: UndefinedMetricWarning: Precision is ill-defined and being set to 0.0 in labels with no predicted samples. Use `zero_division` parameter to control this behavior.\n",
            "  _warn_prf(average, modifier, f\"{metric.capitalize()} is\", len(result))\n",
            "/usr/local/lib/python3.11/dist-packages/sklearn/metrics/_classification.py:1565: UndefinedMetricWarning: Precision is ill-defined and being set to 0.0 in labels with no predicted samples. Use `zero_division` parameter to control this behavior.\n",
            "  _warn_prf(average, modifier, f\"{metric.capitalize()} is\", len(result))\n",
            "/usr/local/lib/python3.11/dist-packages/sklearn/metrics/_classification.py:1565: UndefinedMetricWarning: Precision is ill-defined and being set to 0.0 in labels with no predicted samples. Use `zero_division` parameter to control this behavior.\n",
            "  _warn_prf(average, modifier, f\"{metric.capitalize()} is\", len(result))\n",
            "/usr/local/lib/python3.11/dist-packages/sklearn/metrics/_classification.py:1565: UndefinedMetricWarning: Precision is ill-defined and being set to 0.0 in labels with no predicted samples. Use `zero_division` parameter to control this behavior.\n",
            "  _warn_prf(average, modifier, f\"{metric.capitalize()} is\", len(result))\n",
            "/usr/local/lib/python3.11/dist-packages/sklearn/metrics/_classification.py:1565: UndefinedMetricWarning: Precision is ill-defined and being set to 0.0 in labels with no predicted samples. Use `zero_division` parameter to control this behavior.\n",
            "  _warn_prf(average, modifier, f\"{metric.capitalize()} is\", len(result))\n"
          ]
        },
        {
          "output_type": "stream",
          "name": "stdout",
          "text": [
            "                     accuracy  precision_w  recall_w    f1_w\n",
            "model                                                       \n",
            "Random Forest          0.6616       0.6392    0.6616  0.6452\n",
            "KNN                    0.6305       0.6039    0.6305  0.6116\n",
            "Decision Tree          0.5715       0.5791    0.5715  0.5749\n",
            "SVM                    0.5847       0.5178    0.5847  0.5467\n",
            "Logistic Regression    0.5490       0.4947    0.5490  0.4526\n",
            "Naive Bayes            0.3876       0.4957    0.3876  0.2527\n",
            "\n",
            "Best model: Random Forest (accuracy = 0.6616)\n",
            "check: 0.6616382348794586 0.6616382348794586\n"
          ]
        }
      ]
    },
    {
      "cell_type": "markdown",
      "source": [
        "Plot confusion matrix for top model"
      ],
      "metadata": {
        "id": "ukljQmoEV79Q"
      }
    },
    {
      "cell_type": "markdown",
      "source": [
        "Creates table Summary to add to streamlit"
      ],
      "metadata": {
        "id": "eN7MOH9R6F5b"
      }
    },
    {
      "cell_type": "code",
      "source": [
        "### Moves it to summary for streamlit view.\n",
        "summary_df = summary.round(4)              # optional rename\n",
        "summary_df.to_excel(\"model_results.xlsx\",\n",
        "                    sheet_name=\"test_metrics_2024\",\n",
        "                    index=True)"
      ],
      "metadata": {
        "id": "cCZRFak16GDb"
      },
      "execution_count": 53,
      "outputs": []
    },
    {
      "cell_type": "code",
      "source": [
        "best = max(test_reports, key=lambda m: test_reports[m]['accuracy'])\n",
        "cm = confusion_matrix(y_test, test_preds[best], labels=sorted(y_test.unique()))\n",
        "plt.figure(figsize=(6,5))\n",
        "sns.heatmap(pd.DataFrame(cm, index=sorted(y_test.unique()), columns=sorted(y_test.unique())),\n",
        "            annot=True, fmt='d')\n",
        "plt.title(f'Confusion Matrix — {best}')\n",
        "plt.xlabel('Predicted'); plt.ylabel('True')\n",
        "plt.tight_layout(); plt.show()\n"
      ],
      "metadata": {
        "colab": {
          "base_uri": "https://localhost:8080/",
          "height": 507
        },
        "id": "Ggt8mUs3V8Gt",
        "outputId": "37020ffc-d2ed-497e-98f6-69a6a629165e"
      },
      "execution_count": 30,
      "outputs": [
        {
          "output_type": "display_data",
          "data": {
            "text/plain": [
              "<Figure size 600x500 with 2 Axes>"
            ],
            "image/png": "[encoded data removed]"
          },
          "metadata": {}
        }
      ]
    },
    {
      "cell_type": "markdown",
      "source": [
        "Classification Reports"
      ],
      "metadata": {
        "id": "R9LtgGS2tm6N"
      }
    },
    {
      "cell_type": "code",
      "source": [
        "report_data = []\n",
        "\n",
        "for name, model in models.items():\n",
        "    ### Skip unsupervised\n",
        "    if name == \"KMeans\":\n",
        "        continue\n",
        "\n",
        "    ### Train on scaled training set\n",
        "    model.fit(X_train_scaled, y_train)\n",
        "\n",
        "    ### Predict on scaled test set\n",
        "    y_pred = model.predict(X_test_scaled)\n",
        "\n",
        "    ### Get classification report as a dict\n",
        "    report = classification_report(y_test, y_pred, output_dict=True)\n",
        "\n",
        "    ### Extract accuracy and weighted avg metrics\n",
        "    report_data.append({\n",
        "        'model': name,\n",
        "        'accuracy': report['accuracy'],\n",
        "        'precision': report['weighted avg']['precision'],\n",
        "        'recall': report['weighted avg']['recall'],\n",
        "        'f1-score': report['weighted avg']['f1-score']\n",
        "    })\n",
        "\n",
        "    ### print full report for each model\n",
        "    print(f\"\\n{name} Classification Report:\")\n",
        "    print(classification_report(y_test, y_pred, digits=2))\n",
        "\n",
        "### Convert to DataFrame for easy plotting\n",
        "df_reports = pd.DataFrame(report_data)\n",
        "\n",
        "print(\"\\nSummary Table:\")\n",
        "print(df_reports)"
      ],
      "metadata": {
        "colab": {
          "base_uri": "https://localhost:8080/"
        },
        "id": "j_fZI-EatpK9",
        "outputId": "209325b2-e64e-40aa-c6ab-020ed5fb5a57"
      },
      "execution_count": 51,
      "outputs": [
        {
          "output_type": "stream",
          "name": "stderr",
          "text": [
            "/usr/local/lib/python3.11/dist-packages/sklearn/metrics/_classification.py:1565: UndefinedMetricWarning: Precision is ill-defined and being set to 0.0 in labels with no predicted samples. Use `zero_division` parameter to control this behavior.\n",
            "  _warn_prf(average, modifier, f\"{metric.capitalize()} is\", len(result))\n",
            "/usr/local/lib/python3.11/dist-packages/sklearn/metrics/_classification.py:1565: UndefinedMetricWarning: Precision is ill-defined and being set to 0.0 in labels with no predicted samples. Use `zero_division` parameter to control this behavior.\n",
            "  _warn_prf(average, modifier, f\"{metric.capitalize()} is\", len(result))\n",
            "/usr/local/lib/python3.11/dist-packages/sklearn/metrics/_classification.py:1565: UndefinedMetricWarning: Precision is ill-defined and being set to 0.0 in labels with no predicted samples. Use `zero_division` parameter to control this behavior.\n",
            "  _warn_prf(average, modifier, f\"{metric.capitalize()} is\", len(result))\n",
            "/usr/local/lib/python3.11/dist-packages/sklearn/metrics/_classification.py:1565: UndefinedMetricWarning: Precision is ill-defined and being set to 0.0 in labels with no predicted samples. Use `zero_division` parameter to control this behavior.\n",
            "  _warn_prf(average, modifier, f\"{metric.capitalize()} is\", len(result))\n",
            "/usr/local/lib/python3.11/dist-packages/sklearn/metrics/_classification.py:1565: UndefinedMetricWarning: Precision is ill-defined and being set to 0.0 in labels with no predicted samples. Use `zero_division` parameter to control this behavior.\n",
            "  _warn_prf(average, modifier, f\"{metric.capitalize()} is\", len(result))\n",
            "/usr/local/lib/python3.11/dist-packages/sklearn/metrics/_classification.py:1565: UndefinedMetricWarning: Precision is ill-defined and being set to 0.0 in labels with no predicted samples. Use `zero_division` parameter to control this behavior.\n",
            "  _warn_prf(average, modifier, f\"{metric.capitalize()} is\", len(result))\n"
          ]
        },
        {
          "output_type": "stream",
          "name": "stdout",
          "text": [
            "\n",
            "Logistic Regression Classification Report:\n",
            "              precision    recall  f1-score   support\n",
            "\n",
            "        High       0.56      0.16      0.24      2640\n",
            "         Low       0.00      0.00      0.00        19\n",
            "      Medium       0.00      0.00      0.00       728\n",
            "   Very High       0.55      0.94      0.69      3706\n",
            "\n",
            "    accuracy                           0.55      7093\n",
            "   macro avg       0.28      0.27      0.23      7093\n",
            "weighted avg       0.49      0.55      0.45      7093\n",
            "\n",
            "\n",
            "Naive Bayes Classification Report:\n",
            "              precision    recall  f1-score   support\n",
            "\n",
            "        High       0.39      0.97      0.56      2640\n",
            "         Low       0.07      1.00      0.13        19\n",
            "      Medium       0.05      0.00      0.00       728\n",
            "   Very High       0.66      0.05      0.08      3706\n",
            "\n",
            "    accuracy                           0.39      7093\n",
            "   macro avg       0.29      0.50      0.19      7093\n",
            "weighted avg       0.50      0.39      0.25      7093\n",
            "\n",
            "\n",
            "Decision Tree Classification Report:\n",
            "              precision    recall  f1-score   support\n",
            "\n",
            "        High       0.55      0.57      0.56      2640\n",
            "         Low       0.23      0.32      0.27        19\n",
            "      Medium       0.18      0.20      0.19       728\n",
            "   Very High       0.69      0.65      0.67      3706\n",
            "\n",
            "    accuracy                           0.57      7093\n",
            "   macro avg       0.41      0.43      0.42      7093\n",
            "weighted avg       0.58      0.57      0.58      7093\n",
            "\n",
            "\n",
            "Random Forest Classification Report:\n",
            "              precision    recall  f1-score   support\n",
            "\n",
            "        High       0.62      0.63      0.62      2640\n",
            "         Low       0.45      0.26      0.33        19\n",
            "      Medium       0.32      0.14      0.19       728\n",
            "   Very High       0.71      0.79      0.75      3706\n",
            "\n",
            "    accuracy                           0.66      7093\n",
            "   macro avg       0.53      0.45      0.47      7093\n",
            "weighted avg       0.64      0.66      0.64      7093\n",
            "\n"
          ]
        },
        {
          "output_type": "stream",
          "name": "stderr",
          "text": [
            "/usr/local/lib/python3.11/dist-packages/sklearn/metrics/_classification.py:1565: UndefinedMetricWarning: Precision is ill-defined and being set to 0.0 in labels with no predicted samples. Use `zero_division` parameter to control this behavior.\n",
            "  _warn_prf(average, modifier, f\"{metric.capitalize()} is\", len(result))\n",
            "/usr/local/lib/python3.11/dist-packages/sklearn/metrics/_classification.py:1565: UndefinedMetricWarning: Precision is ill-defined and being set to 0.0 in labels with no predicted samples. Use `zero_division` parameter to control this behavior.\n",
            "  _warn_prf(average, modifier, f\"{metric.capitalize()} is\", len(result))\n",
            "/usr/local/lib/python3.11/dist-packages/sklearn/metrics/_classification.py:1565: UndefinedMetricWarning: Precision is ill-defined and being set to 0.0 in labels with no predicted samples. Use `zero_division` parameter to control this behavior.\n",
            "  _warn_prf(average, modifier, f\"{metric.capitalize()} is\", len(result))\n",
            "/usr/local/lib/python3.11/dist-packages/sklearn/metrics/_classification.py:1565: UndefinedMetricWarning: Precision is ill-defined and being set to 0.0 in labels with no predicted samples. Use `zero_division` parameter to control this behavior.\n",
            "  _warn_prf(average, modifier, f\"{metric.capitalize()} is\", len(result))\n",
            "/usr/local/lib/python3.11/dist-packages/sklearn/metrics/_classification.py:1565: UndefinedMetricWarning: Precision is ill-defined and being set to 0.0 in labels with no predicted samples. Use `zero_division` parameter to control this behavior.\n",
            "  _warn_prf(average, modifier, f\"{metric.capitalize()} is\", len(result))\n",
            "/usr/local/lib/python3.11/dist-packages/sklearn/metrics/_classification.py:1565: UndefinedMetricWarning: Precision is ill-defined and being set to 0.0 in labels with no predicted samples. Use `zero_division` parameter to control this behavior.\n",
            "  _warn_prf(average, modifier, f\"{metric.capitalize()} is\", len(result))\n"
          ]
        },
        {
          "output_type": "stream",
          "name": "stdout",
          "text": [
            "\n",
            "SVM Classification Report:\n",
            "              precision    recall  f1-score   support\n",
            "\n",
            "        High       0.53      0.49      0.51      2640\n",
            "         Low       0.00      0.00      0.00        19\n",
            "      Medium       0.00      0.00      0.00       728\n",
            "   Very High       0.62      0.77      0.68      3706\n",
            "\n",
            "    accuracy                           0.58      7093\n",
            "   macro avg       0.29      0.32      0.30      7093\n",
            "weighted avg       0.52      0.58      0.55      7093\n",
            "\n",
            "\n",
            "KNN Classification Report:\n",
            "              precision    recall  f1-score   support\n",
            "\n",
            "        High       0.57      0.66      0.62      2640\n",
            "         Low       0.43      0.32      0.36        19\n",
            "      Medium       0.23      0.07      0.11       728\n",
            "   Very High       0.70      0.72      0.71      3706\n",
            "\n",
            "    accuracy                           0.63      7093\n",
            "   macro avg       0.48      0.44      0.45      7093\n",
            "weighted avg       0.60      0.63      0.61      7093\n",
            "\n",
            "\n",
            "Summary Table:\n",
            "                 model  accuracy  precision    recall  f1-score\n",
            "0  Logistic Regression  0.548992   0.494723  0.548992  0.452552\n",
            "1          Naive Bayes  0.387565   0.495668  0.387565  0.252714\n",
            "2        Decision Tree  0.571831   0.580673  0.571831  0.575799\n",
            "3        Random Forest  0.660369   0.637187  0.660369  0.643832\n",
            "4                  SVM  0.584661   0.517770  0.584661  0.546671\n",
            "5                  KNN  0.630481   0.603909  0.630481  0.611603\n"
          ]
        }
      ]
    },
    {
      "cell_type": "markdown",
      "source": [
        "Elbow Method K Mean"
      ],
      "metadata": {
        "id": "3BTfg4wytinL"
      }
    },
    {
      "cell_type": "code",
      "source": [
        "### Use scaled training features\n",
        "X_elbow = X_train_scaled\n",
        "\n",
        "ks = range(1, 16)\n",
        "inertias = []\n",
        "\n",
        "for k in ks:\n",
        "    km = KMeans(n_clusters=k, n_init=10, random_state=42)\n",
        "    km.fit(X_elbow)\n",
        "    ### sum of squared distances to nearest cluster center\n",
        "    inertias.append(km.inertia_)\n",
        "\n",
        "plt.figure(figsize=(7,4))\n",
        "plt.plot(list(ks), inertias, marker='o')\n",
        "plt.title(\"Elbow Method For Optimal k\")\n",
        "plt.xlabel(\"k\")\n",
        "plt.ylabel(\"Sum of squared distances\")\n",
        "plt.tight_layout()\n",
        "plt.show()"
      ],
      "metadata": {
        "colab": {
          "base_uri": "https://localhost:8080/",
          "height": 407
        },
        "id": "LsKJwj7Etp09",
        "outputId": "46d7eee3-a152-4d5f-b86d-4a8e6682fcaf"
      },
      "execution_count": 54,
      "outputs": [
        {
          "output_type": "display_data",
          "data": {
            "text/plain": [
              "<Figure size 700x400 with 1 Axes>"
            ],
            "image/png": "[encoded data removed]"
          },
          "metadata": {}
        }
      ]
    },
    {
      "cell_type": "markdown",
      "source": [
        "K-Means Scores"
      ],
      "metadata": {
        "id": "ZLS0hfgtdKQa"
      }
    },
    {
      "cell_type": "code",
      "source": [
        "optimal_k = 7\n",
        "\n",
        "### Fit K-Means on scaled features (train+test combined for unsupervised)\n",
        "X_all_scaled = np.vstack([X_train_scaled, X_test_scaled])\n",
        "y_all = np.concatenate([y_train, y_test])  # to compare against all labels\n",
        "\n",
        "km = KMeans(n_clusters=optimal_k, n_init=10, random_state=42)\n",
        "cluster_labels = km.fit_predict(X_all_scaled)\n",
        "\n",
        "### Compute metrics\n",
        "ari = adjusted_rand_score(y_all, cluster_labels)\n",
        "nmi = normalized_mutual_info_score(y_all, cluster_labels)\n",
        "\n",
        "print(f\"Adjusted Rand Index (ARI): {ari:.4f}\")\n",
        "print(f\"Normalized Mutual Information (NMI): {nmi:.4f}\")"
      ],
      "metadata": {
        "colab": {
          "base_uri": "https://localhost:8080/"
        },
        "id": "8ei1tv9ZdKlx",
        "outputId": "dad3d0c8-2941-49c4-9e0a-cdbee1d11ed5"
      },
      "execution_count": 55,
      "outputs": [
        {
          "output_type": "stream",
          "name": "stdout",
          "text": [
            "Adjusted Rand Index (ARI): 0.0090\n",
            "Normalized Mutual Information (NMI): 0.0174\n"
          ]
        }
      ]
    },
    {
      "cell_type": "markdown",
      "source": [
        "Classification report for each model"
      ],
      "metadata": {
        "id": "5KiB8BMGs-yE"
      }
    },
    {
      "cell_type": "code",
      "source": [
        "metrics_list = []\n",
        "best_name, best_acc = None, -1.0\n",
        "\n",
        "for name, model in models.items():\n",
        "    #### skip unsupervised here\n",
        "    if name == \"KMeans\":\n",
        "        continue\n",
        "    model.fit(X_train_scaled, y_train)\n",
        "    y_pred = model.predict(X_test_scaled)\n",
        "    report = classification_report(y_test, y_pred, output_dict=True)\n",
        "\n",
        "    acc = report['accuracy']\n",
        "    if acc > best_acc:\n",
        "        best_acc = acc\n",
        "        best_name = name\n",
        "\n",
        "    metrics_list.append({\n",
        "        'Model': name,\n",
        "        'Accuracy': acc,\n",
        "        'Precision': report['weighted avg']['precision'],\n",
        "        'Recall': report['weighted avg']['recall'],\n",
        "        'F1-Score': report['weighted avg']['f1-score']\n",
        "    })\n",
        "\n",
        "metrics_df = pd.DataFrame(metrics_list).set_index('Model').sort_values('Accuracy', ascending=False)\n",
        "\n",
        "ax = metrics_df.plot(kind='bar', figsize=(11,6))\n",
        "ax.set_ylabel(\"Score\")\n",
        "ax.set_ylim(0, 1)\n",
        "ax.legend(loc='best')\n",
        "ax.set_title(f\"Accuracy & Weighted Avg Metrics — Best: {best_name} (Acc = {best_acc:.3f})\")\n",
        "plt.tight_layout()\n",
        "plt.show()\n",
        "\n",
        "print(f\"Best model: {best_name}  |  Accuracy: {best_acc:.4f}\")"
      ],
      "metadata": {
        "colab": {
          "base_uri": "https://localhost:8080/",
          "height": 841
        },
        "id": "ErAoUc_Os-oY",
        "outputId": "5b7614e2-8fe1-4183-a9af-4dbe317bec83"
      },
      "execution_count": 56,
      "outputs": [
        {
          "output_type": "stream",
          "name": "stderr",
          "text": [
            "/usr/local/lib/python3.11/dist-packages/sklearn/metrics/_classification.py:1565: UndefinedMetricWarning: Precision is ill-defined and being set to 0.0 in labels with no predicted samples. Use `zero_division` parameter to control this behavior.\n",
            "  _warn_prf(average, modifier, f\"{metric.capitalize()} is\", len(result))\n",
            "/usr/local/lib/python3.11/dist-packages/sklearn/metrics/_classification.py:1565: UndefinedMetricWarning: Precision is ill-defined and being set to 0.0 in labels with no predicted samples. Use `zero_division` parameter to control this behavior.\n",
            "  _warn_prf(average, modifier, f\"{metric.capitalize()} is\", len(result))\n",
            "/usr/local/lib/python3.11/dist-packages/sklearn/metrics/_classification.py:1565: UndefinedMetricWarning: Precision is ill-defined and being set to 0.0 in labels with no predicted samples. Use `zero_division` parameter to control this behavior.\n",
            "  _warn_prf(average, modifier, f\"{metric.capitalize()} is\", len(result))\n",
            "/usr/local/lib/python3.11/dist-packages/sklearn/metrics/_classification.py:1565: UndefinedMetricWarning: Precision is ill-defined and being set to 0.0 in labels with no predicted samples. Use `zero_division` parameter to control this behavior.\n",
            "  _warn_prf(average, modifier, f\"{metric.capitalize()} is\", len(result))\n",
            "/usr/local/lib/python3.11/dist-packages/sklearn/metrics/_classification.py:1565: UndefinedMetricWarning: Precision is ill-defined and being set to 0.0 in labels with no predicted samples. Use `zero_division` parameter to control this behavior.\n",
            "  _warn_prf(average, modifier, f\"{metric.capitalize()} is\", len(result))\n",
            "/usr/local/lib/python3.11/dist-packages/sklearn/metrics/_classification.py:1565: UndefinedMetricWarning: Precision is ill-defined and being set to 0.0 in labels with no predicted samples. Use `zero_division` parameter to control this behavior.\n",
            "  _warn_prf(average, modifier, f\"{metric.capitalize()} is\", len(result))\n"
          ]
        },
        {
          "output_type": "display_data",
          "data": {
            "text/plain": [
              "<Figure size 1100x600 with 1 Axes>"
            ],
            "image/png": "[encoded data removed]"
          },
          "metadata": {}
        },
        {
          "output_type": "stream",
          "name": "stdout",
          "text": [
            "Best model: Random Forest  |  Accuracy: 0.6608\n"
          ]
        }
      ]
    },
    {
      "cell_type": "markdown",
      "source": [
        "End of project\n"
      ],
      "metadata": {
        "id": "2gu7OVt4YcEQ"
      }
    }
  ]
}